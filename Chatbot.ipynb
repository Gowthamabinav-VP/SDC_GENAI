{
  "nbformat": 4,
  "nbformat_minor": 0,
  "metadata": {
    "colab": {
      "provenance": [],
      "authorship_tag": "ABX9TyPbZY4dWxPUQhAR2drJqOaY",
      "include_colab_link": true
    },
    "kernelspec": {
      "name": "python3",
      "display_name": "Python 3"
    },
    "language_info": {
      "name": "python"
    }
  },
  "cells": [
    {
      "cell_type": "markdown",
      "metadata": {
        "id": "view-in-github",
        "colab_type": "text"
      },
      "source": [
        "<a href=\"https://colab.research.google.com/github/Gowthamabinav-VP/SDC_GENAI/blob/main/Chatbot.ipynb\" target=\"_parent\"><img src=\"https://colab.research.google.com/assets/colab-badge.svg\" alt=\"Open In Colab\"/></a>"
      ]
    },
    {
      "cell_type": "code",
      "execution_count": 4,
      "metadata": {
        "colab": {
          "base_uri": "https://localhost:8080/"
        },
        "id": "OehMfa6NiOEB",
        "outputId": "342dfb3d-13ca-4592-e043-e7cb4aec7651"
      },
      "outputs": [
        {
          "output_type": "stream",
          "name": "stdout",
          "text": [
            "Chatbot: Hi! How can I help you today? (Type 'exit' to quit)\n",
            "You: Hi\n",
            "Chatbot: Hi, I'm a little confused about the \"credits\" in the title. I've been reading the book and I think it's a good book. But I don't know if it is a book or not.\n",
            "\n",
            "I'm not sure if the author is referring to the credits or the books. The book is about a guy who's been in a relationship for a long time and he's got a lot of money. He's not a bad guy, but he has a problem\n",
            "You: What is the capital of India\n",
            "Chatbot: What is the capital of India?\n",
            "\n",
            "India is a country of over 100 million people, with a population of around 1.5 billion. India is also the world’s largest exporter of oil and gas.\n",
            "The country is home to over 1,000 companies, including the largest oil company in the country, the Tata Group, which is headquartered in Mumbai. The Tata group is one of the biggest oil companies in India. It is worth around $1.2 trillion. In\n",
            "You: exit\n",
            "Chatbot: Goodbye!\n"
          ]
        }
      ],
      "source": [
        "# Install necessary libraries\n",
        "!pip install torch transformers langchain --quiet\n",
        "\n",
        "# Import necessary libraries\n",
        "from transformers import GPTNeoForCausalLM, GPT2Tokenizer\n",
        "import torch\n",
        "\n",
        "# Load the pre-trained model and tokenizer locally\n",
        "model_name = \"EleutherAI/gpt-neo-125M\"  # You can change this to any other model you have access to\n",
        "model = GPTNeoForCausalLM.from_pretrained(model_name)\n",
        "tokenizer = GPT2Tokenizer.from_pretrained(model_name)\n",
        "\n",
        "# Set up device for running the model\n",
        "device = torch.device(\"cuda\" if torch.cuda.is_available() else \"cpu\")\n",
        "model.to(device)\n",
        "\n",
        "# Function to generate chatbot response\n",
        "def chatbot_response(input_text):\n",
        "    # Encode input text and generate a response\n",
        "    inputs = tokenizer.encode(input_text, return_tensors=\"pt\").to(device)\n",
        "    outputs = model.generate(inputs, max_length=100, num_return_sequences=1, no_repeat_ngram_size=2, pad_token_id=tokenizer.eos_token_id)\n",
        "\n",
        "    # Decode and return the response\n",
        "    response = tokenizer.decode(outputs[0], skip_special_tokens=True)\n",
        "    return response\n",
        "\n",
        "# Interactive chatbot loop\n",
        "print(\"Chatbot: Hi! How can I help you today? (Type 'exit' to quit)\")\n",
        "\n",
        "while True:\n",
        "    # User input\n",
        "    user_input = input(\"You: \")\n",
        "\n",
        "    # Exit condition\n",
        "    if user_input.lower() == 'exit':\n",
        "        print(\"Chatbot: Goodbye!\")\n",
        "        break\n",
        "\n",
        "    # Generate response\n",
        "    response = chatbot_response(user_input)\n",
        "    print(f\"Chatbot: {response}\")"
      ]
    }
  ]
}