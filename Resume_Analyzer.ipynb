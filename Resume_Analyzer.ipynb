{
  "nbformat": 4,
  "nbformat_minor": 0,
  "metadata": {
    "colab": {
      "provenance": [],
      "authorship_tag": "ABX9TyOIVi2uHZKA9CoK/JzFXox0",
      "include_colab_link": true
    },
    "kernelspec": {
      "name": "python3",
      "display_name": "Python 3"
    },
    "language_info": {
      "name": "python"
    }
  },
  "cells": [
    {
      "cell_type": "markdown",
      "metadata": {
        "id": "view-in-github",
        "colab_type": "text"
      },
      "source": [
        "<a href=\"https://colab.research.google.com/github/Gowthamabinav-VP/SDC_GENAI/blob/main/Resume_Analyzer.ipynb\" target=\"_parent\"><img src=\"https://colab.research.google.com/assets/colab-badge.svg\" alt=\"Open In Colab\"/></a>"
      ]
    },
    {
      "cell_type": "code",
      "execution_count": 2,
      "metadata": {
        "colab": {
          "base_uri": "https://localhost:8080/"
        },
        "id": "vp7qrXWglR8D",
        "outputId": "911fd93a-abc1-48f4-cecf-b18ac6c4f945"
      },
      "outputs": [
        {
          "output_type": "stream",
          "name": "stderr",
          "text": [
            "Some weights of BertForSequenceClassification were not initialized from the model checkpoint at bert-base-uncased and are newly initialized: ['classifier.bias', 'classifier.weight']\n",
            "You should probably TRAIN this model on a down-stream task to be able to use it for predictions and inference.\n",
            "Device set to use cpu\n"
          ]
        },
        {
          "output_type": "stream",
          "name": "stdout",
          "text": [
            "Resume Classification Output: [{'label': 'LABEL_0', 'score': 0.6653308868408203}]\n",
            "Job Description Classification Output: [{'label': 'LABEL_0', 'score': 0.6608625650405884}]\n",
            "Match Score: 0.4397\n"
          ]
        }
      ],
      "source": [
        "# ✅ Step 1: Install required libraries (for Colab or Jupyter)\n",
        "!pip install torch transformers --quiet\n",
        "\n",
        "# ✅ Step 2: Import necessary libraries\n",
        "from transformers import BertTokenizer, BertForSequenceClassification, pipeline\n",
        "import torch\n",
        "\n",
        "# ✅ Step 3: Load the pre-trained BERT model and tokenizer\n",
        "model_name = \"bert-base-uncased\"\n",
        "tokenizer = BertTokenizer.from_pretrained(model_name)\n",
        "model = BertForSequenceClassification.from_pretrained(model_name)\n",
        "\n",
        "# ✅ Step 4: Move model to GPU if available\n",
        "device = torch.device(\"cuda\" if torch.cuda.is_available() else \"cpu\")\n",
        "model.to(device)\n",
        "\n",
        "# ✅ Step 5: Create classification pipeline (avoid device ID issues in notebooks)\n",
        "classifier = pipeline(\"text-classification\", model=model, tokenizer=tokenizer, device=0 if torch.cuda.is_available() else -1)\n",
        "\n",
        "# ✅ Step 6: Define analysis function\n",
        "def analyze_resume(resume_text, job_description_text):\n",
        "    resume_output = classifier(resume_text)\n",
        "    job_description_output = classifier(job_description_text)\n",
        "    match_score = resume_output[0]['score'] * job_description_output[0]['score']\n",
        "    return resume_output, job_description_output, match_score\n",
        "\n",
        "# ✅ Step 7: Example texts\n",
        "resume_text = \"\"\"\n",
        "Experienced Software Engineer with a demonstrated history of working in the information technology and services industry.\n",
        "Skilled in Python, JavaScript, SQL, and Machine Learning. Strong engineering professional with a Master's degree focused in Computer Science.\n",
        "\"\"\"\n",
        "\n",
        "job_description_text = \"\"\"\n",
        "We are looking for a Software Engineer proficient in Python, JavaScript, and SQL. The ideal candidate will have experience with machine learning and be able to contribute to building scalable applications.\n",
        "\"\"\"\n",
        "\n",
        "# ✅ Step 8: Analyze and print results\n",
        "resume_output, job_output, score = analyze_resume(resume_text, job_description_text)\n",
        "\n",
        "print(\"Resume Classification Output:\", resume_output)\n",
        "print(\"Job Description Classification Output:\", job_output)\n",
        "print(f\"Match Score: {score:.4f}\")\n"
      ]
    }
  ]
}