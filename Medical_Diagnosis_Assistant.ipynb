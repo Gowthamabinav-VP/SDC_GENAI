{
  "nbformat": 4,
  "nbformat_minor": 0,
  "metadata": {
    "colab": {
      "provenance": [],
      "authorship_tag": "ABX9TyPMJ6eBj3P7npwGcaQESgM6",
      "include_colab_link": true
    },
    "kernelspec": {
      "name": "python3",
      "display_name": "Python 3"
    },
    "language_info": {
      "name": "python"
    }
  },
  "cells": [
    {
      "cell_type": "markdown",
      "metadata": {
        "id": "view-in-github",
        "colab_type": "text"
      },
      "source": [
        "<a href=\"https://colab.research.google.com/github/Gowthamabinav-VP/SDC_GENAI/blob/main/Medical_Diagnosis_Assistant.ipynb\" target=\"_parent\"><img src=\"https://colab.research.google.com/assets/colab-badge.svg\" alt=\"Open In Colab\"/></a>"
      ]
    },
    {
      "cell_type": "code",
      "execution_count": 2,
      "metadata": {
        "colab": {
          "base_uri": "https://localhost:8080/"
        },
        "id": "A5oZR0uinPTM",
        "outputId": "b634b059-eb8d-4758-953a-e800ff3c884f"
      },
      "outputs": [
        {
          "output_type": "stream",
          "name": "stderr",
          "text": [
            "Some weights of BertForSequenceClassification were not initialized from the model checkpoint at dmis-lab/biobert-v1.1 and are newly initialized: ['classifier.bias', 'classifier.weight']\n",
            "You should probably TRAIN this model on a down-stream task to be able to use it for predictions and inference.\n"
          ]
        },
        {
          "output_type": "stream",
          "name": "stdout",
          "text": [
            "Predicted Disease Class: 2\n",
            "Prediction Confidence Score: 0.2293\n",
            "Predicted Disease: Common Cold\n"
          ]
        }
      ],
      "source": [
        "# Step 1: Install necessary libraries\n",
        "!pip install transformers torch --quiet\n",
        "\n",
        "# Step 2: Import required libraries\n",
        "from transformers import BertTokenizer, BertForSequenceClassification\n",
        "import torch\n",
        "\n",
        "# Step 3: Load BioBERT model and tokenizer (for medical text classification)\n",
        "model_name = \"dmis-lab/biobert-v1.1\"  # Pretrained BioBERT model\n",
        "tokenizer = BertTokenizer.from_pretrained(model_name)\n",
        "model = BertForSequenceClassification.from_pretrained(model_name, num_labels=3)  # Assume 3 classes for example\n",
        "\n",
        "# Step 4: Set device to GPU if available\n",
        "device = torch.device(\"cuda\" if torch.cuda.is_available() else \"cpu\")\n",
        "model.to(device)\n",
        "\n",
        "# Step 5: Define diagnosis function\n",
        "def diagnose(symptom_text):\n",
        "    inputs = tokenizer.encode(symptom_text, return_tensors=\"pt\", truncation=True, max_length=512).to(device)\n",
        "    with torch.no_grad():\n",
        "        outputs = model(inputs)\n",
        "    predictions = torch.argmax(outputs.logits, dim=-1).item()\n",
        "    return predictions, outputs.logits[0][predictions].item()\n",
        "\n",
        "# Step 6: Example input symptoms (customizable)\n",
        "symptom_text = \"Fever, dry cough, and tiredness. Difficulty breathing, chest pain.\"\n",
        "\n",
        "# Step 7: Run diagnosis\n",
        "disease_class, disease_score = diagnose(symptom_text)\n",
        "\n",
        "# Step 8: Dummy class mapping (replace with actual disease labels if available)\n",
        "disease_map = {\n",
        "    0: \"COVID-19\",\n",
        "    1: \"Flu\",\n",
        "    2: \"Common Cold\"\n",
        "}\n",
        "\n",
        "# Step 9: Print output\n",
        "print(\"Predicted Disease Class:\", disease_class)\n",
        "print(\"Prediction Confidence Score:\", round(disease_score, 4))\n",
        "print(\"Predicted Disease:\", disease_map.get(disease_class, \"Unknown Disease\"))\n"
      ]
    }
  ]
}