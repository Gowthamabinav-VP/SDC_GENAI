{
  "nbformat": 4,
  "nbformat_minor": 0,
  "metadata": {
    "colab": {
      "provenance": [],
      "toc_visible": true,
      "authorship_tag": "ABX9TyNf2qI0XBw1TY21Z1cGN8cZ",
      "include_colab_link": true
    },
    "kernelspec": {
      "name": "python3",
      "display_name": "Python 3"
    },
    "language_info": {
      "name": "python"
    }
  },
  "cells": [
    {
      "cell_type": "markdown",
      "metadata": {
        "id": "view-in-github",
        "colab_type": "text"
      },
      "source": [
        "<a href=\"https://colab.research.google.com/github/Gowthamabinav-VP/SDC_GENAI/blob/main/Untitled0.ipynb\" target=\"_parent\"><img src=\"https://colab.research.google.com/assets/colab-badge.svg\" alt=\"Open In Colab\"/></a>"
      ]
    },
    {
      "cell_type": "code",
      "execution_count": null,
      "metadata": {
        "colab": {
          "base_uri": "https://localhost:8080/"
        },
        "id": "4UeeXt8Uxkd3",
        "outputId": "ff8c22a9-0cdf-43e3-c4d1-88b7728a4f74"
      },
      "outputs": [
        {
          "output_type": "stream",
          "name": "stdout",
          "text": [
            "Intercept: 33.61586272125213\n",
            "Coefficients for [sq.ft., bedrooms, age]: [-2.52296987e-02  6.24192677e+01  5.70686394e+00]\n",
            "Enter the size of the house (in square feet): 100\n",
            "Enter the number of bedrooms: 3\n",
            "Enter the age of the house (in years): 2\n",
            "Predicted price for the house with 100.0 sq ft, 3 bedrooms, and 2 years old: $229.76K\n"
          ]
        }
      ],
      "source": [
        "import numpy as np\n",
        "\n",
        "# Sample data: (sq.ft., number of bedrooms, age of house) and the corresponding price\n",
        "# Features: [sq.ft., bedrooms, age]\n",
        "X = np.array([\n",
        "    [1500, 3, 10],  # House 1: 1500 sq ft, 3 bedrooms, 10 years old\n",
        "    [1800, 4, 15],  # House 2: 1800 sq ft, 4 bedrooms, 15 years old\n",
        "    [2400, 3, 20],  # House 3: 2400 sq ft, 3 bedrooms, 20 years old\n",
        "    [3000, 5, 5],   # House 4: 3000 sq ft, 5 bedrooms, 5 years old\n",
        "    [3500, 4, 2]    # House 5: 3500 sq ft, 4 bedrooms, 2 years old\n",
        "])\n",
        "\n",
        "# Target prices (in thousands of dollars)\n",
        "y = np.array([245, 312, 279, 308, 199])  # Prices in thousands\n",
        "\n",
        "# Add a bias term (intercept) to the feature matrix X\n",
        "X_b = np.c_[np.ones((X.shape[0], 1)), X]\n",
        "\n",
        "# Calculate the best-fit line using the Normal Equation\n",
        "# theta = (X_b^T * X_b)^-1 * X_b^T * y\n",
        "theta_best = np.linalg.inv(X_b.T.dot(X_b)).dot(X_b.T).dot(y)\n",
        "\n",
        "# Print the coefficients (intercept and features' slopes)\n",
        "print(\"Intercept:\", theta_best[0])\n",
        "print(\"Coefficients for [sq.ft., bedrooms, age]:\", theta_best[1:])\n",
        "\n",
        "# Asking for user input (new house features)\n",
        "sq_ft = float(input(\"Enter the size of the house (in square feet): \"))\n",
        "bedrooms = int(input(\"Enter the number of bedrooms: \"))\n",
        "age = int(input(\"Enter the age of the house (in years): \"))\n",
        "\n",
        "# Preparing the input features for prediction (add bias term)\n",
        "new_house_features = np.array([1, sq_ft, bedrooms, age])\n",
        "\n",
        "# Making the prediction for the new house\n",
        "predicted_price = new_house_features.dot(theta_best)\n",
        "\n",
        "# Display the predicted price\n",
        "print(f\"Predicted price for the house with {sq_ft} sq ft, {bedrooms} bedrooms, and {age} years old: ${predicted_price:.2f}K\")\n"
      ]
    },
    {
      "cell_type": "code",
      "source": [
        "import numpy as np\n",
        "import pandas as pd\n",
        "\n",
        "# Load data from CSV file\n",
        "df = pd.read_csv('house_data.csv')\n",
        "\n",
        "# Features: size_sqft, bedrooms, age\n",
        "X = df[['size_sqft', 'bedrooms', 'age']].values\n",
        "\n",
        "# Target: price\n",
        "y = df['price'].values\n",
        "\n",
        "# Add a bias term (intercept) to the feature matrix X\n",
        "X_b = np.c_[np.ones((X.shape[0], 1)), X]\n",
        "\n",
        "# Calculate the best-fit line using the Normal Equation\n",
        "# theta = (X_b^T * X_b)^-1 * X_b^T * y\n",
        "theta_best = np.linalg.inv(X_b.T.dot(X_b)).dot(X_b.T).dot(y)\n",
        "\n",
        "# Print the coefficients (intercept and features' slopes)\n",
        "print(\"Intercept:\", theta_best[0])\n",
        "print(\"Coefficients for [size_sqft, bedrooms, age]:\", theta_best[1:])\n",
        "\n",
        "# Asking for user input (new house features)\n",
        "sq_ft = float(input(\"Enter the size of the house (in square feet): \"))\n",
        "bedrooms = int(input(\"Enter the number of bedrooms: \"))\n",
        "age = int(input(\"Enter the age of the house (in years): \"))\n",
        "\n",
        "# Preparing the input features for prediction (add bias term)\n",
        "new_house_features = np.array([1, sq_ft, bedrooms, age])\n",
        "\n",
        "# Making the prediction for the new house\n",
        "predicted_price = new_house_features.dot(theta_best)\n",
        "\n",
        "# Display the predicted price\n",
        "print(f\"Predicted price for the house with {sq_ft} sq ft, {bedrooms} bedrooms, and {age} years old: ${predicted_price:.2f}K\")\n"
      ],
      "metadata": {
        "colab": {
          "base_uri": "https://localhost:8080/"
        },
        "id": "r_ZLqPT146Y4",
        "outputId": "ab4f75b3-5887-46b1-d979-4ef6b5f2d946"
      },
      "execution_count": null,
      "outputs": [
        {
          "output_type": "stream",
          "name": "stdout",
          "text": [
            "Intercept: 33.61586272125213\n",
            "Coefficients for [size_sqft, bedrooms, age]: [-2.52296987e-02  6.24192677e+01  5.70686394e+00]\n",
            "Enter the size of the house (in square feet): 1000\n",
            "Enter the number of bedrooms: 3\n",
            "Enter the age of the house (in years): 2\n",
            "Predicted price for the house with 1000.0 sq ft, 3 bedrooms, and 2 years old: $207.06K\n"
          ]
        }
      ]
    },
    {
      "cell_type": "code",
      "source": [
        "from ortools.constraint_solver import routing_enums_pb2\n",
        "from ortools.constraint_solver import pywrapcp\n",
        "import numpy as np\n",
        "import matplotlib.pyplot as plt\n",
        "\n",
        "# Sample data: Coordinates of delivery locations (e.g., stores and warehouses)\n",
        "locations = [\n",
        "    (0, 0),   # Depot (starting point)\n",
        "    (1, 3),   # Location 1\n",
        "    (4, 3),   # Location 2\n",
        "    (2, 6),   # Location 3\n",
        "    (7, 8),   # Location 4\n",
        "    (8, 1)    # Location 5\n",
        "]\n",
        "\n",
        "# Number of locations\n",
        "num_locations = len(locations)\n",
        "\n",
        "# Function to calculate Euclidean distance between two locations\n",
        "def distance_matrix(locations):\n",
        "    dist_matrix = np.zeros((num_locations, num_locations))\n",
        "    for i in range(num_locations):\n",
        "        for j in range(num_locations):\n",
        "            dist_matrix[i][j] = np.linalg.norm(np.array(locations[i]) - np.array(locations[j]))\n",
        "    return dist_matrix\n",
        "\n",
        "# Create the distance matrix\n",
        "dist_matrix = distance_matrix(locations)\n",
        "\n",
        "# Create the routing index manager\n",
        "manager = pywrapcp.RoutingIndexManager(num_locations, 1, 0)  # 1 vehicle, 0 is the depot\n",
        "\n",
        "# Create Routing Model\n",
        "routing = pywrapcp.RoutingModel(manager)\n",
        "\n",
        "# Create a distance callback for the routing solver\n",
        "def distance_callback(from_index, to_index):\n",
        "    # Returns the distance between the two nodes.\n",
        "    from_node = manager.IndexToNode(from_index)\n",
        "    to_node = manager.IndexToNode(to_index)\n",
        "    return int(dist_matrix[from_node][to_node])\n",
        "\n",
        "transit_callback_index = routing.RegisterTransitCallback(distance_callback)\n",
        "\n",
        "# Define cost of each arc\n",
        "routing.SetArcCostEvaluatorOfAllVehicles(transit_callback_index)\n",
        "\n",
        "# Set up search parameters (using greedy search for simplicity)\n",
        "search_parameters = pywrapcp.DefaultRoutingSearchParameters()\n",
        "search_parameters.first_solution_strategy = routing_enums_pb2.FirstSolutionStrategy.PATH_CHEAPEST_ARC\n",
        "\n",
        "# Solve the problem\n",
        "solution = routing.SolveWithParameters(search_parameters)\n",
        "\n",
        "# If a solution is found, print it and visualize it\n",
        "if solution:\n",
        "    print(\"Route:\")\n",
        "    total_distance = 0\n",
        "    route = []\n",
        "    index = routing.Start(0)\n",
        "    while not routing.IsEnd(index):\n",
        "        node_index = manager.IndexToNode(index)\n",
        "        route.append(locations[node_index])\n",
        "        next_index = solution.Value(routing.NextVar(index))\n",
        "\n",
        "        # Corrected line: Include the vehicle ID (which is 0 in this case)\n",
        "        total_distance += routing.GetArcCostForVehicle(index, next_index, 0)\n",
        "\n",
        "        index = next_index\n",
        "    # Add the depot back to the route\n",
        "    route.append(locations[0])\n",
        "\n",
        "    print(route)\n",
        "    print(\"Total distance: \", total_distance)\n",
        "\n",
        "    # Plot the route\n",
        "    route = np.array(route)\n",
        "    plt.plot(route[:, 0], route[:, 1], 'bo-', label='Route')\n",
        "    plt.scatter(route[:, 0], route[:, 1], c='red', marker='x', label='Locations')\n",
        "    plt.title(f\"Optimized Route with Total Distance: {total_distance}\")\n",
        "    plt.xlabel('X coordinate')\n",
        "    plt.ylabel('Y coordinate')\n",
        "    plt.legend()\n",
        "    plt.grid(True)\n",
        "    plt.show()\n",
        "\n",
        "else:\n",
        "    print(\"No solution found.\")\n"
      ],
      "metadata": {
        "colab": {
          "base_uri": "https://localhost:8080/",
          "height": 524
        },
        "id": "Pfyn-1ZH-Xyc",
        "outputId": "64f9c33f-ddd1-4480-9ac5-f2787df43bbd"
      },
      "execution_count": null,
      "outputs": [
        {
          "output_type": "stream",
          "name": "stdout",
          "text": [
            "Route:\n",
            "[(0, 0), (1, 3), (2, 6), (7, 8), (8, 1), (4, 3), (0, 0)]\n",
            "Total distance:  27\n"
          ]
        },
        {
          "output_type": "display_data",
          "data": {
            "text/plain": [
              "<Figure size 640x480 with 1 Axes>"
            ],
            "image/png": "[encoded data removed]"
          },
          "metadata": {}
        }
      ]
    },
    {
      "cell_type": "code",
      "source": [
        "from googletrans import Translator\n",
        "\n",
        "# Function to translate text\n",
        "def translate_text(text, src_language, dest_language):\n",
        "    translator = Translator()\n",
        "    translated = translator.translate(text, src=src_language, dest=dest_language)\n",
        "    return translated.text\n",
        "\n",
        "# Input from the user\n",
        "text_to_translate = input(\"Enter text to translate: \")\n",
        "source_language = input(\"Enter source language code (e.g., 'en' for English, 'es' for Spanish, 'fr' for French): \")\n",
        "destination_language = input(\"Enter destination language code (e.g., 'en' for English, 'es' for Spanish, 'fr' for French): \")\n",
        "\n",
        "# Translate the text\n",
        "translated_text = translate_text(text_to_translate, source_language, destination_language)\n",
        "\n",
        "# Output the translated text\n",
        "print(f\"Translated text: {translated_text}\")\n"
      ],
      "metadata": {
        "colab": {
          "base_uri": "https://localhost:8080/"
        },
        "id": "w4ozn3ox-5pI",
        "outputId": "c6737719-e365-4ed0-bf69-61d02198a901"
      },
      "execution_count": null,
      "outputs": [
        {
          "output_type": "stream",
          "name": "stdout",
          "text": [
            "Enter text to translate: How are you\n",
            "Enter source language code (e.g., 'en' for English, 'es' for Spanish, 'fr' for French): English\n",
            "Enter destination language code (e.g., 'en' for English, 'es' for Spanish, 'fr' for French): French\n",
            "Translated text: Comment vas-tu\n"
          ]
        }
      ]
    },
    {
      "cell_type": "code",
      "source": [
        "from googletrans import Translator, LANGUAGES\n",
        "\n",
        "# Function to translate text to all available languages\n",
        "def translate_to_all_languages(text):\n",
        "    translator = Translator()\n",
        "\n",
        "    # Detect the language of the text\n",
        "    detected = translator.detect(text)\n",
        "    source_language = detected.lang\n",
        "    print(f\"Detected source language: {source_language}\")\n",
        "\n",
        "    translations = {}\n",
        "\n",
        "    # Loop through all available languages\n",
        "    for lang_code, lang_name in LANGUAGES.items():\n",
        "        # Translate the text to the current language\n",
        "        translated = translator.translate(text, src=source_language, dest=lang_code)\n",
        "        translations[lang_name] = translated.text\n",
        "\n",
        "    return translations\n",
        "\n",
        "# Input text from user\n",
        "text_to_translate = input(\"Enter text to translate: \")\n",
        "\n",
        "# Translate the text to all languages\n",
        "translated_texts = translate_to_all_languages(text_to_translate)\n",
        "\n",
        "# Print all translations\n",
        "for language, translated_text in translated_texts.items():\n",
        "    print(f\"{language}: {translated_text}\")\n"
      ],
      "metadata": {
        "colab": {
          "base_uri": "https://localhost:8080/"
        },
        "id": "6vSxcxKgA7CI",
        "outputId": "620aff80-0770-4810-cd9b-034c7839794d"
      },
      "execution_count": null,
      "outputs": [
        {
          "output_type": "stream",
          "name": "stdout",
          "text": [
            "Enter text to translate: How are you\n",
            "Detected source language: en\n",
            "afrikaans: Hoe gaan dit\n",
            "albanian: Si jeni\n",
            "amharic: ስላም\n",
            "arabic: كيف حالك\n",
            "armenian: Ինչպես ես\n",
            "azerbaijani: Necəsən\n",
            "basque: Zer moduz zaude\n",
            "belarusian: Як справы\n",
            "bengali: তুমি কেমন আছ\n",
            "bosnian: Kako si\n",
            "bulgarian: Как си\n",
            "catalan: Com estàs?\n",
            "cebuano: Kumusta ka\n",
            "chichewa: Muli bwanji\n",
            "chinese (simplified): 你好吗\n",
            "chinese (traditional): 你好嗎\n",
            "corsican: Cumu si\n",
            "croatian: Kako ste\n",
            "czech: Jak se máte\n",
            "danish: Hvordan har du det\n",
            "dutch: Hoe is het\n",
            "english: How are you\n",
            "esperanto: Kiel vi fartas\n",
            "estonian: Kuidas läheb\n",
            "filipino: Kamusta ka na\n",
            "finnish: Kuinka voit\n",
            "french: Comment vas-tu\n",
            "frisian: Hoe giet it\n",
            "galician: Como estás\n",
            "georgian: როგორ ხარ\n",
            "german: Wie geht es dir\n",
            "greek: Τι κάνετε\n",
            "gujarati: તમે કેમ છો\n",
            "haitian creole: Koman ou ye\n",
            "hausa: Yaya kuke\n",
            "hawaiian: Pehea ʻoe\n",
            "hebrew: מה שלומך\n",
            "hindi: आप कैसे हैं?\n",
            "hmong: Koj nyob li cas\n",
            "hungarian: Hogy vagy\n",
            "icelandic: Hvernig hefurðu það\n",
            "igbo: Kedu ka ị mere\n",
            "indonesian: Apa kabarmu\n",
            "irish: Conas atá tú\n",
            "italian: Come stai\n",
            "japanese: 元気ですか\n",
            "javanese: Piye kabare\n",
            "kannada: ನೀವು ಹೇಗಿದ್ದೀರಿ\n",
            "kazakh: Қалдарыңыз қалай\n",
            "khmer: តើអ្នកសុខសប្បាយជាទេ\n",
            "korean: 어떻게 지내세요\n",
            "kurdish (kurmanji): Halê we çawa ye\n",
            "kyrgyz: Кандайсыз\n",
            "lao: ເຈົ້າເປັນແນວໃດ\n",
            "latin: Quid agis\n",
            "latvian: Kā tev iet\n",
            "lithuanian: Kaip tu\n",
            "luxembourgish: Wéi geet et\n",
            "macedonian: Како си\n",
            "malagasy: Manao ahoana ianao\n",
            "malay: Apa khabar\n",
            "malayalam: സുഖമാണോ\n",
            "maltese: Kif int\n",
            "maori: Kei te pēhea koe?\n",
            "marathi: आपण कसे आहात\n",
            "mongolian: Юу байна\n",
            "myanmar (burmese): နေကောင်းလား\n",
            "nepali: तिमीलाई कस्तो छ\n",
            "norwegian: Hvordan har du det\n",
            "odia: କେମିତି ଅଛନ୍ତି, କେମିତି ଅଛ\n",
            "pashto: تاسو څنګه یئ\n",
            "persian: حال شما چطور است\n",
            "polish: Jak się masz\n",
            "portuguese: Como vai\n",
            "punjabi: ਤੁਸੀ ਕਿਵੇਂ ਹੋ\n",
            "romanian: Ce mai faci\n",
            "russian: Как вы\n",
            "samoan: O a mai oe\n",
            "scots gaelic: Ciamar a tha thu\n",
            "serbian: Како си\n",
            "sesotho: U phela joang\n",
            "shona: Makadii\n",
            "sindhi: تون ڪيئن آهين\n",
            "sinhala: ඔයාට කොහොම ද\n",
            "slovak: Ako sa máš\n",
            "slovenian: Kako si\n",
            "somali: Sidee tahay\n",
            "spanish: Cómo estás\n",
            "sundanese: Kumaha damang\n",
            "swahili: Habari yako\n",
            "swedish: Hur mår du\n",
            "tajik: Шумо чӣ хелед\n",
            "tamil: நீங்கள் எப்படி இருக்கிறீர்கள்\n",
            "telugu: మీరు ఎలా ఉన్నారు\n",
            "thai: คุณเป็นอย่างไร\n",
            "turkish: Nasılsın\n",
            "ukrainian: Як справи\n",
            "urdu: آپ کیسے ہیں؟\n",
            "uyghur: قانداق ئەھۋالىڭىز?\n",
            "uzbek: Qalaysiz\n",
            "vietnamese: Bạn có khỏe không\n",
            "welsh: Sut wyt ti\n",
            "xhosa: Icomo estas\n",
            "yiddish: וואס מאכסטו\n",
            "yoruba: Bawo ni o se wa\n",
            "zulu: Unjani\n"
          ]
        }
      ]
    },
    {
      "cell_type": "code",
      "source": [
        "from googletrans import Translator, LANGUAGES\n",
        "\n",
        "# Function to translate text to a user-specified language\n",
        "def translate_to_language(text, dest_language):\n",
        "    translator = Translator()\n",
        "\n",
        "    # Detect the source language automatically\n",
        "    detected = translator.detect(text)\n",
        "    source_language = detected.lang\n",
        "    print(f\"Detected source language: {LANGUAGES[source_language]}\")\n",
        "\n",
        "    # Translate the text to the destination language\n",
        "    translated = translator.translate(text, src=source_language, dest=dest_language)\n",
        "\n",
        "    return translated.text\n",
        "\n",
        "# Input from the user\n",
        "text_to_translate = input(\"Enter text to translate: \")\n",
        "destination_language = input(\"Enter the destination language code (e.g., 'en' for English, 'es' for Spanish, 'fr' for French): \")\n",
        "\n",
        "# Ensure the destination language is valid\n",
        "if destination_language not in LANGUAGES:\n",
        "    print(\"Invalid language code. Please enter a valid language code.\")\n",
        "else:\n",
        "    # Translate the text to the specified language\n",
        "    translated_text = translate_to_language(text_to_translate, destination_language)\n",
        "\n",
        "    # Output the translated text\n",
        "    print(f\"Translated text in {LANGUAGES[destination_language]}: {translated_text}\")\n"
      ],
      "metadata": {
        "colab": {
          "base_uri": "https://localhost:8080/",
          "height": 386
        },
        "id": "peSQRPC1BUT3",
        "outputId": "7ecda77b-ff9a-4a31-d58a-ba7c537e63c8"
      },
      "execution_count": null,
      "outputs": [
        {
          "output_type": "error",
          "ename": "ModuleNotFoundError",
          "evalue": "No module named 'googletrans'",
          "traceback": [
            "\u001b[0;31m---------------------------------------------------------------------------\u001b[0m",
            "\u001b[0;31mModuleNotFoundError\u001b[0m                       Traceback (most recent call last)",
            "\u001b[0;32m<ipython-input-1-c9741dd5084c>\u001b[0m in \u001b[0;36m<cell line: 0>\u001b[0;34m()\u001b[0m\n\u001b[0;32m----> 1\u001b[0;31m \u001b[0;32mfrom\u001b[0m \u001b[0mgoogletrans\u001b[0m \u001b[0;32mimport\u001b[0m \u001b[0mTranslator\u001b[0m\u001b[0;34m,\u001b[0m \u001b[0mLANGUAGES\u001b[0m\u001b[0;34m\u001b[0m\u001b[0;34m\u001b[0m\u001b[0m\n\u001b[0m\u001b[1;32m      2\u001b[0m \u001b[0;34m\u001b[0m\u001b[0m\n\u001b[1;32m      3\u001b[0m \u001b[0;31m# Function to translate text to a user-specified language\u001b[0m\u001b[0;34m\u001b[0m\u001b[0;34m\u001b[0m\u001b[0m\n\u001b[1;32m      4\u001b[0m \u001b[0;32mdef\u001b[0m \u001b[0mtranslate_to_language\u001b[0m\u001b[0;34m(\u001b[0m\u001b[0mtext\u001b[0m\u001b[0;34m,\u001b[0m \u001b[0mdest_language\u001b[0m\u001b[0;34m)\u001b[0m\u001b[0;34m:\u001b[0m\u001b[0;34m\u001b[0m\u001b[0;34m\u001b[0m\u001b[0m\n\u001b[1;32m      5\u001b[0m     \u001b[0mtranslator\u001b[0m \u001b[0;34m=\u001b[0m \u001b[0mTranslator\u001b[0m\u001b[0;34m(\u001b[0m\u001b[0;34m)\u001b[0m\u001b[0;34m\u001b[0m\u001b[0;34m\u001b[0m\u001b[0m\n",
            "\u001b[0;31mModuleNotFoundError\u001b[0m: No module named 'googletrans'",
            "",
            "\u001b[0;31m---------------------------------------------------------------------------\u001b[0;32m\nNOTE: If your import is failing due to a missing package, you can\nmanually install dependencies using either !pip or !apt.\n\nTo view examples of installing some common dependencies, click the\n\"Open Examples\" button below.\n\u001b[0;31m---------------------------------------------------------------------------\u001b[0m\n"
          ],
          "errorDetails": {
            "actions": [
              {
                "action": "open_url",
                "actionText": "Open Examples",
                "url": "/notebooks/snippets/importing_libraries.ipynb"
              }
            ]
          }
        }
      ]
    },
    {
      "cell_type": "code",
      "source": [
        "import numpy as np\n",
        "import matplotlib.pyplot as plt\n",
        "from sklearn.cluster import KMeans\n",
        "from sklearn.datasets import make_blobs\n",
        "\n",
        "# Generate synthetic data\n",
        "n_samples = 300\n",
        "n_features = 2\n",
        "n_clusters = 3\n",
        "random_state = 42\n",
        "data, labels = make_blobs(n_samples=n_samples, n_features=n_features, centers=n_clusters, random_state=random_state)\n",
        "\n",
        "# Apply K-Means clustering\n",
        "kmeans = KMeans(n_clusters=n_clusters, random_state=random_state)\n",
        "kmeans.fit(data)\n",
        "labels_pred = kmeans.labels_\n",
        "centroids = kmeans.cluster_centers_\n",
        "\n",
        "# Plot the results\n",
        "plt.figure(figsize=(8, 6))\n",
        "plt.scatter(data[:, 0], data[:, 1], c=labels_pred, cmap='viridis', marker='o', edgecolor='k')\n",
        "plt.scatter(centroids[:, 0], centroids[:, 1], c='red', marker='x', s=200, label='Centroids')\n",
        "plt.title(\"K-Means Clustering\")\n",
        "plt.xlabel(\"Feature 1\")\n",
        "plt.ylabel(\"Feature 2\")\n",
        "plt.legend()\n",
        "plt.show()\n"
      ],
      "metadata": {
        "colab": {
          "base_uri": "https://localhost:8080/",
          "height": 564
        },
        "id": "8KKjWBkE3vfB",
        "outputId": "bc3808f1-c1d5-476a-e517-4e9e3d10133a"
      },
      "execution_count": null,
      "outputs": [
        {
          "output_type": "display_data",
          "data": {
            "text/plain": [
              "<Figure size 800x600 with 1 Axes>"
            ],
            "image/png": "[encoded data removed]"
          },
          "metadata": {}
        }
      ]
    },
    {
      "cell_type": "code",
      "source": [
        "import pandas as pd\n",
        "import numpy as np\n",
        "import matplotlib.pyplot as plt\n",
        "from sklearn.cluster import KMeans\n",
        "from sklearn.preprocessing import StandardScaler\n",
        "\n",
        "# Sample dataset: Customers with Annual Income and Spending Score\n",
        "data = {\n",
        "    'CustomerID': range(1, 11),\n",
        "    'Annual_Income': [15, 16, 17, 18, 19, 60, 62, 63, 64, 65],  # in thousands\n",
        "    'Spending_Score': [39, 81, 6, 77, 40, 50, 49, 48, 47, 46]\n",
        "}\n",
        "\n",
        "df = pd.DataFrame(data)\n",
        "\n",
        "# Select relevant features\n",
        "X = df[['Annual_Income', 'Spending_Score']]\n",
        "\n",
        "# Scale the data\n",
        "scaler = StandardScaler()\n",
        "X_scaled = scaler.fit_transform(X)\n",
        "\n",
        "# Apply K-Means\n",
        "kmeans = KMeans(n_clusters=3, random_state=42)\n",
        "df['Cluster'] = kmeans.fit_predict(X_scaled)\n",
        "\n",
        "# Plot results\n",
        "plt.figure(figsize=(8, 6))\n",
        "plt.scatter(df['Annual_Income'], df['Spending_Score'], c=df['Cluster'], cmap='viridis', edgecolors='k')\n",
        "plt.scatter(kmeans.cluster_centers_[:, 0] * scaler.scale_[0] + scaler.mean_[0],\n",
        "            kmeans.cluster_centers_[:, 1] * scaler.scale_[1] + scaler.mean_[1],\n",
        "            c='red', marker='x', s=200, label='Centroids')\n",
        "plt.xlabel(\"Annual Income (K$)\")\n",
        "plt.ylabel(\"Spending Score\")\n",
        "plt.title(\"Customer Segmentation Using K-Means\")\n",
        "plt.legend()\n",
        "plt.show()\n"
      ],
      "metadata": {
        "colab": {
          "base_uri": "https://localhost:8080/",
          "height": 564
        },
        "id": "qP1ELPWu5Vl8",
        "outputId": "b78d54e6-81d4-4de0-9a1f-adcb268079c2"
      },
      "execution_count": null,
      "outputs": [
        {
          "output_type": "display_data",
          "data": {
            "text/plain": [
              "<Figure size 800x600 with 1 Axes>"
            ],
            "image/png": "[encoded data removed]"
          },
          "metadata": {}
        }
      ]
    },
    {
      "cell_type": "code",
      "source": [
        "!pip install gradio"
      ],
      "metadata": {
        "colab": {
          "base_uri": "https://localhost:8080/"
        },
        "id": "EUqjKurG5vv3",
        "outputId": "fbb81323-45d5-467c-bff0-83375f408c1d"
      },
      "execution_count": null,
      "outputs": [
        {
          "output_type": "stream",
          "name": "stdout",
          "text": [
            "Collecting gradio\n",
            "  Downloading gradio-5.23.1-py3-none-any.whl.metadata (16 kB)\n",
            "Collecting aiofiles<24.0,>=22.0 (from gradio)\n",
            "  Downloading aiofiles-23.2.1-py3-none-any.whl.metadata (9.7 kB)\n",
            "Requirement already satisfied: anyio<5.0,>=3.0 in /usr/local/lib/python3.11/dist-packages (from gradio) (4.9.0)\n",
            "Collecting fastapi<1.0,>=0.115.2 (from gradio)\n",
            "  Downloading fastapi-0.115.12-py3-none-any.whl.metadata (27 kB)\n",
            "Collecting ffmpy (from gradio)\n",
            "  Downloading ffmpy-0.5.0-py3-none-any.whl.metadata (3.0 kB)\n",
            "Collecting gradio-client==1.8.0 (from gradio)\n",
            "  Downloading gradio_client-1.8.0-py3-none-any.whl.metadata (7.1 kB)\n",
            "Collecting groovy~=0.1 (from gradio)\n",
            "  Downloading groovy-0.1.2-py3-none-any.whl.metadata (6.1 kB)\n",
            "Requirement already satisfied: httpx>=0.24.1 in /usr/local/lib/python3.11/dist-packages (from gradio) (0.28.1)\n",
            "Requirement already satisfied: huggingface-hub>=0.28.1 in /usr/local/lib/python3.11/dist-packages (from gradio) (0.29.3)\n",
            "Requirement already satisfied: jinja2<4.0 in /usr/local/lib/python3.11/dist-packages (from gradio) (3.1.6)\n",
            "Requirement already satisfied: markupsafe<4.0,>=2.0 in /usr/local/lib/python3.11/dist-packages (from gradio) (3.0.2)\n",
            "Requirement already satisfied: numpy<3.0,>=1.0 in /usr/local/lib/python3.11/dist-packages (from gradio) (2.0.2)\n",
            "Requirement already satisfied: orjson~=3.0 in /usr/local/lib/python3.11/dist-packages (from gradio) (3.10.15)\n",
            "Requirement already satisfied: packaging in /usr/local/lib/python3.11/dist-packages (from gradio) (24.2)\n",
            "Requirement already satisfied: pandas<3.0,>=1.0 in /usr/local/lib/python3.11/dist-packages (from gradio) (2.2.2)\n",
            "Requirement already satisfied: pillow<12.0,>=8.0 in /usr/local/lib/python3.11/dist-packages (from gradio) (11.1.0)\n",
            "Requirement already satisfied: pydantic>=2.0 in /usr/local/lib/python3.11/dist-packages (from gradio) (2.10.6)\n",
            "Collecting pydub (from gradio)\n",
            "  Downloading pydub-0.25.1-py2.py3-none-any.whl.metadata (1.4 kB)\n",
            "Collecting python-multipart>=0.0.18 (from gradio)\n",
            "  Downloading python_multipart-0.0.20-py3-none-any.whl.metadata (1.8 kB)\n",
            "Requirement already satisfied: pyyaml<7.0,>=5.0 in /usr/local/lib/python3.11/dist-packages (from gradio) (6.0.2)\n",
            "Collecting ruff>=0.9.3 (from gradio)\n",
            "  Downloading ruff-0.11.2-py3-none-manylinux_2_17_x86_64.manylinux2014_x86_64.whl.metadata (25 kB)\n",
            "Collecting safehttpx<0.2.0,>=0.1.6 (from gradio)\n",
            "  Downloading safehttpx-0.1.6-py3-none-any.whl.metadata (4.2 kB)\n",
            "Collecting semantic-version~=2.0 (from gradio)\n",
            "  Downloading semantic_version-2.10.0-py2.py3-none-any.whl.metadata (9.7 kB)\n",
            "Collecting starlette<1.0,>=0.40.0 (from gradio)\n",
            "  Downloading starlette-0.46.1-py3-none-any.whl.metadata (6.2 kB)\n",
            "Collecting tomlkit<0.14.0,>=0.12.0 (from gradio)\n",
            "  Downloading tomlkit-0.13.2-py3-none-any.whl.metadata (2.7 kB)\n",
            "Requirement already satisfied: typer<1.0,>=0.12 in /usr/local/lib/python3.11/dist-packages (from gradio) (0.15.2)\n",
            "Requirement already satisfied: typing-extensions~=4.0 in /usr/local/lib/python3.11/dist-packages (from gradio) (4.12.2)\n",
            "Collecting uvicorn>=0.14.0 (from gradio)\n",
            "  Downloading uvicorn-0.34.0-py3-none-any.whl.metadata (6.5 kB)\n",
            "Requirement already satisfied: fsspec in /usr/local/lib/python3.11/dist-packages (from gradio-client==1.8.0->gradio) (2025.3.0)\n",
            "Requirement already satisfied: websockets<16.0,>=10.0 in /usr/local/lib/python3.11/dist-packages (from gradio-client==1.8.0->gradio) (15.0.1)\n",
            "Requirement already satisfied: idna>=2.8 in /usr/local/lib/python3.11/dist-packages (from anyio<5.0,>=3.0->gradio) (3.10)\n",
            "Requirement already satisfied: sniffio>=1.1 in /usr/local/lib/python3.11/dist-packages (from anyio<5.0,>=3.0->gradio) (1.3.1)\n",
            "Requirement already satisfied: certifi in /usr/local/lib/python3.11/dist-packages (from httpx>=0.24.1->gradio) (2025.1.31)\n",
            "Requirement already satisfied: httpcore==1.* in /usr/local/lib/python3.11/dist-packages (from httpx>=0.24.1->gradio) (1.0.7)\n",
            "Requirement already satisfied: h11<0.15,>=0.13 in /usr/local/lib/python3.11/dist-packages (from httpcore==1.*->httpx>=0.24.1->gradio) (0.14.0)\n",
            "Requirement already satisfied: filelock in /usr/local/lib/python3.11/dist-packages (from huggingface-hub>=0.28.1->gradio) (3.18.0)\n",
            "Requirement already satisfied: requests in /usr/local/lib/python3.11/dist-packages (from huggingface-hub>=0.28.1->gradio) (2.32.3)\n",
            "Requirement already satisfied: tqdm>=4.42.1 in /usr/local/lib/python3.11/dist-packages (from huggingface-hub>=0.28.1->gradio) (4.67.1)\n",
            "Requirement already satisfied: python-dateutil>=2.8.2 in /usr/local/lib/python3.11/dist-packages (from pandas<3.0,>=1.0->gradio) (2.8.2)\n",
            "Requirement already satisfied: pytz>=2020.1 in /usr/local/lib/python3.11/dist-packages (from pandas<3.0,>=1.0->gradio) (2025.1)\n",
            "Requirement already satisfied: tzdata>=2022.7 in /usr/local/lib/python3.11/dist-packages (from pandas<3.0,>=1.0->gradio) (2025.1)\n",
            "Requirement already satisfied: annotated-types>=0.6.0 in /usr/local/lib/python3.11/dist-packages (from pydantic>=2.0->gradio) (0.7.0)\n",
            "Requirement already satisfied: pydantic-core==2.27.2 in /usr/local/lib/python3.11/dist-packages (from pydantic>=2.0->gradio) (2.27.2)\n",
            "Requirement already satisfied: click>=8.0.0 in /usr/local/lib/python3.11/dist-packages (from typer<1.0,>=0.12->gradio) (8.1.8)\n",
            "Requirement already satisfied: shellingham>=1.3.0 in /usr/local/lib/python3.11/dist-packages (from typer<1.0,>=0.12->gradio) (1.5.4)\n",
            "Requirement already satisfied: rich>=10.11.0 in /usr/local/lib/python3.11/dist-packages (from typer<1.0,>=0.12->gradio) (13.9.4)\n",
            "Requirement already satisfied: six>=1.5 in /usr/local/lib/python3.11/dist-packages (from python-dateutil>=2.8.2->pandas<3.0,>=1.0->gradio) (1.17.0)\n",
            "Requirement already satisfied: markdown-it-py>=2.2.0 in /usr/local/lib/python3.11/dist-packages (from rich>=10.11.0->typer<1.0,>=0.12->gradio) (3.0.0)\n",
            "Requirement already satisfied: pygments<3.0.0,>=2.13.0 in /usr/local/lib/python3.11/dist-packages (from rich>=10.11.0->typer<1.0,>=0.12->gradio) (2.18.0)\n",
            "Requirement already satisfied: charset-normalizer<4,>=2 in /usr/local/lib/python3.11/dist-packages (from requests->huggingface-hub>=0.28.1->gradio) (3.4.1)\n",
            "Requirement already satisfied: urllib3<3,>=1.21.1 in /usr/local/lib/python3.11/dist-packages (from requests->huggingface-hub>=0.28.1->gradio) (2.3.0)\n",
            "Requirement already satisfied: mdurl~=0.1 in /usr/local/lib/python3.11/dist-packages (from markdown-it-py>=2.2.0->rich>=10.11.0->typer<1.0,>=0.12->gradio) (0.1.2)\n",
            "Downloading gradio-5.23.1-py3-none-any.whl (51.3 MB)\n",
            "\u001b[2K   \u001b[90m━━━━━━━━━━━━━━━━━━━━━━━━━━━━━━━━━━━━━━━━\u001b[0m \u001b[32m51.3/51.3 MB\u001b[0m \u001b[31m13.5 MB/s\u001b[0m eta \u001b[36m0:00:00\u001b[0m\n",
            "\u001b[?25hDownloading gradio_client-1.8.0-py3-none-any.whl (322 kB)\n",
            "\u001b[2K   \u001b[90m━━━━━━━━━━━━━━━━━━━━━━━━━━━━━━━━━━━━━━━━\u001b[0m \u001b[32m322.2/322.2 kB\u001b[0m \u001b[31m25.8 MB/s\u001b[0m eta \u001b[36m0:00:00\u001b[0m\n",
            "\u001b[?25hDownloading aiofiles-23.2.1-py3-none-any.whl (15 kB)\n",
            "Downloading fastapi-0.115.12-py3-none-any.whl (95 kB)\n",
            "\u001b[2K   \u001b[90m━━━━━━━━━━━━━━━━━━━━━━━━━━━━━━━━━━━━━━━━\u001b[0m \u001b[32m95.2/95.2 kB\u001b[0m \u001b[31m9.4 MB/s\u001b[0m eta \u001b[36m0:00:00\u001b[0m\n",
            "\u001b[?25hDownloading groovy-0.1.2-py3-none-any.whl (14 kB)\n",
            "Downloading python_multipart-0.0.20-py3-none-any.whl (24 kB)\n",
            "Downloading ruff-0.11.2-py3-none-manylinux_2_17_x86_64.manylinux2014_x86_64.whl (11.3 MB)\n",
            "\u001b[2K   \u001b[90m━━━━━━━━━━━━━━━━━━━━━━━━━━━━━━━━━━━━━━━━\u001b[0m \u001b[32m11.3/11.3 MB\u001b[0m \u001b[31m99.8 MB/s\u001b[0m eta \u001b[36m0:00:00\u001b[0m\n",
            "\u001b[?25hDownloading safehttpx-0.1.6-py3-none-any.whl (8.7 kB)\n",
            "Downloading semantic_version-2.10.0-py2.py3-none-any.whl (15 kB)\n",
            "Downloading starlette-0.46.1-py3-none-any.whl (71 kB)\n",
            "\u001b[2K   \u001b[90m━━━━━━━━━━━━━━━━━━━━━━━━━━━━━━━━━━━━━━━━\u001b[0m \u001b[32m72.0/72.0 kB\u001b[0m \u001b[31m7.0 MB/s\u001b[0m eta \u001b[36m0:00:00\u001b[0m\n",
            "\u001b[?25hDownloading tomlkit-0.13.2-py3-none-any.whl (37 kB)\n",
            "Downloading uvicorn-0.34.0-py3-none-any.whl (62 kB)\n",
            "\u001b[2K   \u001b[90m━━━━━━━━━━━━━━━━━━━━━━━━━━━━━━━━━━━━━━━━\u001b[0m \u001b[32m62.3/62.3 kB\u001b[0m \u001b[31m6.0 MB/s\u001b[0m eta \u001b[36m0:00:00\u001b[0m\n",
            "\u001b[?25hDownloading ffmpy-0.5.0-py3-none-any.whl (6.0 kB)\n",
            "Downloading pydub-0.25.1-py2.py3-none-any.whl (32 kB)\n",
            "Installing collected packages: pydub, uvicorn, tomlkit, semantic-version, ruff, python-multipart, groovy, ffmpy, aiofiles, starlette, safehttpx, gradio-client, fastapi, gradio\n",
            "Successfully installed aiofiles-23.2.1 fastapi-0.115.12 ffmpy-0.5.0 gradio-5.23.1 gradio-client-1.8.0 groovy-0.1.2 pydub-0.25.1 python-multipart-0.0.20 ruff-0.11.2 safehttpx-0.1.6 semantic-version-2.10.0 starlette-0.46.1 tomlkit-0.13.2 uvicorn-0.34.0\n"
          ]
        }
      ]
    },
    {
      "cell_type": "code",
      "source": [
        "import numpy as np\n",
        "import matplotlib.pyplot as plt\n",
        "import pandas as pd\n",
        "import gradio as gr\n",
        "from sklearn.cluster import KMeans\n",
        "from sklearn.preprocessing import StandardScaler\n",
        "\n",
        "def generate_data(num_samples=100):\n",
        "    np.random.seed(42)\n",
        "    X1 = np.random.normal(loc=[5, 5], scale=1.0, size=(num_samples // 3, 2))\n",
        "    X2 = np.random.normal(loc=[15, 15], scale=1.0, size=(num_samples // 3, 2))\n",
        "    X3 = np.random.normal(loc=[25, 5], scale=1.0, size=(num_samples // 3, 2))\n",
        "    X = np.vstack((X1, X2, X3))\n",
        "    df = pd.DataFrame(X, columns=[\"Feature 1\", \"Feature 2\"])\n",
        "    return df\n",
        "\n",
        "def cluster_customers(num_clusters):\n",
        "    df = generate_data()\n",
        "\n",
        "    # Standardize data\n",
        "    scaler = StandardScaler()\n",
        "    X_scaled = scaler.fit_transform(df)\n",
        "\n",
        "    # Apply K-Means\n",
        "    kmeans = KMeans(n_clusters=num_clusters, random_state=42)\n",
        "    df['Cluster'] = kmeans.fit_predict(X_scaled)\n",
        "\n",
        "    # Plot results\n",
        "    plt.figure(figsize=(8, 6))\n",
        "    plt.scatter(df.iloc[:, 0], df.iloc[:, 1], c=df['Cluster'], cmap='viridis', edgecolors='k')\n",
        "    plt.scatter(kmeans.cluster_centers_[:, 0] * scaler.scale_[0] + scaler.mean_[0],\n",
        "                kmeans.cluster_centers_[:, 1] * scaler.scale_[1] + scaler.mean_[1],\n",
        "                c='red', marker='x', s=200, label='Centroids')\n",
        "    plt.xlabel(\"Feature 1\")\n",
        "    plt.ylabel(\"Feature 2\")\n",
        "    plt.title(\"K-Means Clustering\")\n",
        "    plt.legend()\n",
        "    plt.savefig(\"output.png\")\n",
        "    return \"output.png\"\n",
        "\n",
        "# Gradio Interface\n",
        "demo = gr.Interface(\n",
        "    fn=cluster_customers,\n",
        "    inputs=gr.Slider(2, 10, step=1, label=\"Number of Clusters\"),\n",
        "    outputs=gr.Image(label=\"Cluster Visualization\"),\n",
        "    title=\"Interactive K-Means Clustering\",\n",
        "    description=\"Adjust the number of clusters to see clustering on generated data.\"\n",
        ")\n",
        "\n",
        "demo.launch()\n"
      ],
      "metadata": {
        "colab": {
          "base_uri": "https://localhost:8080/",
          "height": 645
        },
        "id": "cMl7tl9a6HLc",
        "outputId": "33090ef7-a0c0-4b85-82ce-2ee525250cb6"
      },
      "execution_count": null,
      "outputs": [
        {
          "output_type": "stream",
          "name": "stdout",
          "text": [
            "Running Gradio in a Colab notebook requires sharing enabled. Automatically setting `share=True` (you can turn this off by setting `share=False` in `launch()` explicitly).\n",
            "\n",
            "Colab notebook detected. To show errors in colab notebook, set debug=True in launch()\n",
            "* Running on public URL: https://afe52c5acadc5b539a.gradio.live\n",
            "\n",
            "This share link expires in 72 hours. For free permanent hosting and GPU upgrades, run `gradio deploy` from the terminal in the working directory to deploy to Hugging Face Spaces (https://huggingface.co/spaces)\n"
          ]
        },
        {
          "output_type": "display_data",
          "data": {
            "text/plain": [
              "<IPython.core.display.HTML object>"
            ],
            "text/html": [
              "<div><iframe src=\"https://afe52c5acadc5b539a.gradio.live\" width=\"100%\" height=\"500\" allow=\"autoplay; camera; microphone; clipboard-read; clipboard-write;\" frameborder=\"0\" allowfullscreen></iframe></div>"
            ]
          },
          "metadata": {}
        },
        {
          "output_type": "execute_result",
          "data": {
            "text/plain": []
          },
          "metadata": {},
          "execution_count": 8
        }
      ]
    },
    {
      "cell_type": "code",
      "source": [
        "import numpy as np\n",
        "import matplotlib.pyplot as plt\n",
        "import pandas as pd\n",
        "import gradio as gr\n",
        "from sklearn.cluster import KMeans\n",
        "from sklearn.preprocessing import StandardScaler\n",
        "\n",
        "def generate_data():\n",
        "    data = {\n",
        "        'CustomerID': range(1, 11),\n",
        "        'Annual_Income': [15, 16, 17, 18, 19, 60, 62, 63, 64, 65],  # in thousands\n",
        "        'Spending_Score': [39, 81, 6, 77, 40, 50, 49, 48, 47, 46]\n",
        "    }\n",
        "    df = pd.DataFrame(data)\n",
        "    return df\n",
        "\n",
        "def cluster_customers(num_clusters):\n",
        "    df = generate_data()\n",
        "\n",
        "    # Select relevant features\n",
        "    X = df[['Annual_Income', 'Spending_Score']]\n",
        "\n",
        "    # Scale the data\n",
        "    scaler = StandardScaler()\n",
        "    X_scaled = scaler.fit_transform(X)\n",
        "\n",
        "    # Apply K-Means\n",
        "    kmeans = KMeans(n_clusters=num_clusters, random_state=42)\n",
        "    df['Cluster'] = kmeans.fit_predict(X_scaled)\n",
        "\n",
        "    # Plot results\n",
        "    plt.figure(figsize=(8, 6))\n",
        "    plt.scatter(df['Annual_Income'], df['Spending_Score'], c=df['Cluster'], cmap='viridis', edgecolors='k')\n",
        "    plt.scatter(kmeans.cluster_centers_[:, 0] * scaler.scale_[0] + scaler.mean_[0],\n",
        "                kmeans.cluster_centers_[:, 1] * scaler.scale_[1] + scaler.mean_[1],\n",
        "                c='red', marker='x', s=200, label='Centroids')\n",
        "    plt.xlabel(\"Annual Income (K$)\")\n",
        "    plt.ylabel(\"Spending Score\")\n",
        "    plt.title(\"Customer Segmentation Using K-Means\")\n",
        "    plt.legend()\n",
        "    plt.savefig(\"output.png\")\n",
        "    return \"output.png\"\n",
        "\n",
        "# Gradio Interface\n",
        "demo = gr.Interface(\n",
        "    fn=cluster_customers,\n",
        "    inputs=gr.Slider(2, 5, step=1, label=\"Number of Clusters\"),\n",
        "    outputs=gr.Image(label=\"Cluster Visualization\"),\n",
        "    title=\"Interactive K-Means Customer Segmentation\",\n",
        "    description=\"Adjust the number of clusters to see customer segmentation on sample data.\"\n",
        ")\n",
        "\n",
        "demo.launch()\n"
      ],
      "metadata": {
        "colab": {
          "base_uri": "https://localhost:8080/",
          "height": 645
        },
        "id": "0PZJhgei6pVf",
        "outputId": "1a50372c-32de-40c2-d552-35900674de14"
      },
      "execution_count": null,
      "outputs": [
        {
          "output_type": "stream",
          "name": "stdout",
          "text": [
            "Running Gradio in a Colab notebook requires sharing enabled. Automatically setting `share=True` (you can turn this off by setting `share=False` in `launch()` explicitly).\n",
            "\n",
            "Colab notebook detected. To show errors in colab notebook, set debug=True in launch()\n",
            "* Running on public URL: https://30e824289dd567979e.gradio.live\n",
            "\n",
            "This share link expires in 72 hours. For free permanent hosting and GPU upgrades, run `gradio deploy` from the terminal in the working directory to deploy to Hugging Face Spaces (https://huggingface.co/spaces)\n"
          ]
        },
        {
          "output_type": "display_data",
          "data": {
            "text/plain": [
              "<IPython.core.display.HTML object>"
            ],
            "text/html": [
              "<div><iframe src=\"https://30e824289dd567979e.gradio.live\" width=\"100%\" height=\"500\" allow=\"autoplay; camera; microphone; clipboard-read; clipboard-write;\" frameborder=\"0\" allowfullscreen></iframe></div>"
            ]
          },
          "metadata": {}
        },
        {
          "output_type": "execute_result",
          "data": {
            "text/plain": []
          },
          "metadata": {},
          "execution_count": 7
        }
      ]
    },
    {
      "cell_type": "code",
      "source": [
        "import numpy as np\n",
        "import matplotlib.pyplot as plt\n",
        "import pandas as pd\n",
        "import gradio as gr\n",
        "from sklearn.cluster import AgglomerativeClustering\n",
        "from sklearn.preprocessing import StandardScaler\n",
        "from scipy.cluster.hierarchy import dendrogram, linkage\n",
        "\n",
        "def generate_data():\n",
        "    data = {\n",
        "        'CustomerID': range(1, 11),\n",
        "        'Annual_Income': [15, 16, 17, 18, 19, 60, 62, 63, 64, 65],  # in thousands\n",
        "        'Spending_Score': [39, 81, 6, 77, 40, 50, 49, 48, 47, 46]\n",
        "    }\n",
        "    df = pd.DataFrame(data)\n",
        "    return df\n",
        "\n",
        "def hierarchical_clustering(num_clusters):\n",
        "    df = generate_data()\n",
        "\n",
        "    # Select relevant features\n",
        "    X = df[['Annual_Income', 'Spending_Score']]\n",
        "\n",
        "    # Scale the data\n",
        "    scaler = StandardScaler()\n",
        "    X_scaled = scaler.fit_transform(X)\n",
        "\n",
        "    # Apply Hierarchical Clustering\n",
        "    hc = AgglomerativeClustering(n_clusters=num_clusters, linkage='ward')  # Removed affinity parameter\n",
        "    df['Cluster'] = hc.fit_predict(X_scaled)\n",
        "\n",
        "    # Plot results\n",
        "    plt.figure(figsize=(8, 6))\n",
        "    plt.scatter(df['Annual_Income'], df['Spending_Score'], c=df['Cluster'], cmap='viridis', edgecolors='k')\n",
        "    plt.xlabel(\"Annual Income (K$)\")\n",
        "    plt.ylabel(\"Spending Score\")\n",
        "    plt.title(\"Customer Segmentation Using Hierarchical Clustering\")\n",
        "    plt.savefig(\"output.png\")\n",
        "    plt.close()\n",
        "\n",
        "    # Dendrogram\n",
        "    plt.figure(figsize=(10, 6))\n",
        "    linked = linkage(X_scaled, method='ward')\n",
        "    dendrogram(linked, orientation='top', distance_sort='descending', show_leaf_counts=True)\n",
        "    plt.title(\"Dendrogram for Hierarchical Clustering\")\n",
        "    plt.xlabel(\"Data Points\")\n",
        "    plt.ylabel(\"Euclidean Distance\")\n",
        "    plt.savefig(\"dendrogram.png\")\n",
        "    plt.close()\n",
        "\n",
        "    return [\"output.png\", \"dendrogram.png\"]\n",
        "\n",
        "# Gradio Interface\n",
        "demo = gr.Interface(\n",
        "    fn=hierarchical_clustering,\n",
        "    inputs=gr.Slider(2, 5, step=1, label=\"Number of Clusters\"),\n",
        "    outputs=[gr.Image(label=\"Cluster Visualization\"), gr.Image(label=\"Dendrogram\")],\n",
        "    title=\"Interactive Hierarchical Clustering\",\n",
        "    description=\"Adjust the number of clusters to see hierarchical clustering on sample data.\"\n",
        ")\n",
        "\n",
        "demo.launch()\n"
      ],
      "metadata": {
        "colab": {
          "base_uri": "https://localhost:8080/",
          "height": 645
        },
        "id": "uyzMcJDw7pjs",
        "outputId": "fc234c3f-abb0-49bb-8eb8-d755c322d2b6"
      },
      "execution_count": null,
      "outputs": [
        {
          "output_type": "stream",
          "name": "stdout",
          "text": [
            "Running Gradio in a Colab notebook requires sharing enabled. Automatically setting `share=True` (you can turn this off by setting `share=False` in `launch()` explicitly).\n",
            "\n",
            "Colab notebook detected. To show errors in colab notebook, set debug=True in launch()\n",
            "* Running on public URL: https://0a68ef44e4c56229b6.gradio.live\n",
            "\n",
            "This share link expires in 72 hours. For free permanent hosting and GPU upgrades, run `gradio deploy` from the terminal in the working directory to deploy to Hugging Face Spaces (https://huggingface.co/spaces)\n"
          ]
        },
        {
          "output_type": "display_data",
          "data": {
            "text/plain": [
              "<IPython.core.display.HTML object>"
            ],
            "text/html": [
              "<div><iframe src=\"https://0a68ef44e4c56229b6.gradio.live\" width=\"100%\" height=\"500\" allow=\"autoplay; camera; microphone; clipboard-read; clipboard-write;\" frameborder=\"0\" allowfullscreen></iframe></div>"
            ]
          },
          "metadata": {}
        },
        {
          "output_type": "execute_result",
          "data": {
            "text/plain": []
          },
          "metadata": {},
          "execution_count": 6
        }
      ]
    },
    {
      "cell_type": "code",
      "source": [
        "!pip install gradio"
      ],
      "metadata": {
        "colab": {
          "base_uri": "https://localhost:8080/"
        },
        "id": "QzYqOiY7vBoB",
        "outputId": "12b1b059-c19c-4db4-c003-1d759052e971"
      },
      "execution_count": null,
      "outputs": [
        {
          "output_type": "stream",
          "name": "stdout",
          "text": [
            "Collecting gradio\n",
            "  Downloading gradio-5.23.3-py3-none-any.whl.metadata (16 kB)\n",
            "Collecting aiofiles<24.0,>=22.0 (from gradio)\n",
            "  Downloading aiofiles-23.2.1-py3-none-any.whl.metadata (9.7 kB)\n",
            "Requirement already satisfied: anyio<5.0,>=3.0 in /usr/local/lib/python3.11/dist-packages (from gradio) (4.9.0)\n",
            "Collecting fastapi<1.0,>=0.115.2 (from gradio)\n",
            "  Downloading fastapi-0.115.12-py3-none-any.whl.metadata (27 kB)\n",
            "Collecting ffmpy (from gradio)\n",
            "  Downloading ffmpy-0.5.0-py3-none-any.whl.metadata (3.0 kB)\n",
            "Collecting gradio-client==1.8.0 (from gradio)\n",
            "  Downloading gradio_client-1.8.0-py3-none-any.whl.metadata (7.1 kB)\n",
            "Collecting groovy~=0.1 (from gradio)\n",
            "  Downloading groovy-0.1.2-py3-none-any.whl.metadata (6.1 kB)\n",
            "Requirement already satisfied: httpx>=0.24.1 in /usr/local/lib/python3.11/dist-packages (from gradio) (0.28.1)\n",
            "Requirement already satisfied: huggingface-hub>=0.28.1 in /usr/local/lib/python3.11/dist-packages (from gradio) (0.29.3)\n",
            "Requirement already satisfied: jinja2<4.0 in /usr/local/lib/python3.11/dist-packages (from gradio) (3.1.6)\n",
            "Requirement already satisfied: markupsafe<4.0,>=2.0 in /usr/local/lib/python3.11/dist-packages (from gradio) (3.0.2)\n",
            "Requirement already satisfied: numpy<3.0,>=1.0 in /usr/local/lib/python3.11/dist-packages (from gradio) (2.0.2)\n",
            "Requirement already satisfied: orjson~=3.0 in /usr/local/lib/python3.11/dist-packages (from gradio) (3.10.16)\n",
            "Requirement already satisfied: packaging in /usr/local/lib/python3.11/dist-packages (from gradio) (24.2)\n",
            "Requirement already satisfied: pandas<3.0,>=1.0 in /usr/local/lib/python3.11/dist-packages (from gradio) (2.2.2)\n",
            "Requirement already satisfied: pillow<12.0,>=8.0 in /usr/local/lib/python3.11/dist-packages (from gradio) (11.1.0)\n",
            "Requirement already satisfied: pydantic<2.12,>=2.0 in /usr/local/lib/python3.11/dist-packages (from gradio) (2.11.0)\n",
            "Collecting pydub (from gradio)\n",
            "  Downloading pydub-0.25.1-py2.py3-none-any.whl.metadata (1.4 kB)\n",
            "Collecting python-multipart>=0.0.18 (from gradio)\n",
            "  Downloading python_multipart-0.0.20-py3-none-any.whl.metadata (1.8 kB)\n",
            "Requirement already satisfied: pyyaml<7.0,>=5.0 in /usr/local/lib/python3.11/dist-packages (from gradio) (6.0.2)\n",
            "Collecting ruff>=0.9.3 (from gradio)\n",
            "  Downloading ruff-0.11.2-py3-none-manylinux_2_17_x86_64.manylinux2014_x86_64.whl.metadata (25 kB)\n",
            "Collecting safehttpx<0.2.0,>=0.1.6 (from gradio)\n",
            "  Downloading safehttpx-0.1.6-py3-none-any.whl.metadata (4.2 kB)\n",
            "Collecting semantic-version~=2.0 (from gradio)\n",
            "  Downloading semantic_version-2.10.0-py2.py3-none-any.whl.metadata (9.7 kB)\n",
            "Collecting starlette<1.0,>=0.40.0 (from gradio)\n",
            "  Downloading starlette-0.46.1-py3-none-any.whl.metadata (6.2 kB)\n",
            "Collecting tomlkit<0.14.0,>=0.12.0 (from gradio)\n",
            "  Downloading tomlkit-0.13.2-py3-none-any.whl.metadata (2.7 kB)\n",
            "Requirement already satisfied: typer<1.0,>=0.12 in /usr/local/lib/python3.11/dist-packages (from gradio) (0.15.2)\n",
            "Requirement already satisfied: typing-extensions~=4.0 in /usr/local/lib/python3.11/dist-packages (from gradio) (4.13.0)\n",
            "Collecting uvicorn>=0.14.0 (from gradio)\n",
            "  Downloading uvicorn-0.34.0-py3-none-any.whl.metadata (6.5 kB)\n",
            "Requirement already satisfied: fsspec in /usr/local/lib/python3.11/dist-packages (from gradio-client==1.8.0->gradio) (2025.3.0)\n",
            "Requirement already satisfied: websockets<16.0,>=10.0 in /usr/local/lib/python3.11/dist-packages (from gradio-client==1.8.0->gradio) (15.0.1)\n",
            "Requirement already satisfied: idna>=2.8 in /usr/local/lib/python3.11/dist-packages (from anyio<5.0,>=3.0->gradio) (3.10)\n",
            "Requirement already satisfied: sniffio>=1.1 in /usr/local/lib/python3.11/dist-packages (from anyio<5.0,>=3.0->gradio) (1.3.1)\n",
            "Requirement already satisfied: certifi in /usr/local/lib/python3.11/dist-packages (from httpx>=0.24.1->gradio) (2025.1.31)\n",
            "Requirement already satisfied: httpcore==1.* in /usr/local/lib/python3.11/dist-packages (from httpx>=0.24.1->gradio) (1.0.7)\n",
            "Requirement already satisfied: h11<0.15,>=0.13 in /usr/local/lib/python3.11/dist-packages (from httpcore==1.*->httpx>=0.24.1->gradio) (0.14.0)\n",
            "Requirement already satisfied: filelock in /usr/local/lib/python3.11/dist-packages (from huggingface-hub>=0.28.1->gradio) (3.18.0)\n",
            "Requirement already satisfied: requests in /usr/local/lib/python3.11/dist-packages (from huggingface-hub>=0.28.1->gradio) (2.32.3)\n",
            "Requirement already satisfied: tqdm>=4.42.1 in /usr/local/lib/python3.11/dist-packages (from huggingface-hub>=0.28.1->gradio) (4.67.1)\n",
            "Requirement already satisfied: python-dateutil>=2.8.2 in /usr/local/lib/python3.11/dist-packages (from pandas<3.0,>=1.0->gradio) (2.8.2)\n",
            "Requirement already satisfied: pytz>=2020.1 in /usr/local/lib/python3.11/dist-packages (from pandas<3.0,>=1.0->gradio) (2025.2)\n",
            "Requirement already satisfied: tzdata>=2022.7 in /usr/local/lib/python3.11/dist-packages (from pandas<3.0,>=1.0->gradio) (2025.2)\n",
            "Requirement already satisfied: annotated-types>=0.6.0 in /usr/local/lib/python3.11/dist-packages (from pydantic<2.12,>=2.0->gradio) (0.7.0)\n",
            "Requirement already satisfied: pydantic-core==2.33.0 in /usr/local/lib/python3.11/dist-packages (from pydantic<2.12,>=2.0->gradio) (2.33.0)\n",
            "Requirement already satisfied: typing-inspection>=0.4.0 in /usr/local/lib/python3.11/dist-packages (from pydantic<2.12,>=2.0->gradio) (0.4.0)\n",
            "Requirement already satisfied: click>=8.0.0 in /usr/local/lib/python3.11/dist-packages (from typer<1.0,>=0.12->gradio) (8.1.8)\n",
            "Requirement already satisfied: shellingham>=1.3.0 in /usr/local/lib/python3.11/dist-packages (from typer<1.0,>=0.12->gradio) (1.5.4)\n",
            "Requirement already satisfied: rich>=10.11.0 in /usr/local/lib/python3.11/dist-packages (from typer<1.0,>=0.12->gradio) (13.9.4)\n",
            "Requirement already satisfied: six>=1.5 in /usr/local/lib/python3.11/dist-packages (from python-dateutil>=2.8.2->pandas<3.0,>=1.0->gradio) (1.17.0)\n",
            "Requirement already satisfied: markdown-it-py>=2.2.0 in /usr/local/lib/python3.11/dist-packages (from rich>=10.11.0->typer<1.0,>=0.12->gradio) (3.0.0)\n",
            "Requirement already satisfied: pygments<3.0.0,>=2.13.0 in /usr/local/lib/python3.11/dist-packages (from rich>=10.11.0->typer<1.0,>=0.12->gradio) (2.18.0)\n",
            "Requirement already satisfied: charset-normalizer<4,>=2 in /usr/local/lib/python3.11/dist-packages (from requests->huggingface-hub>=0.28.1->gradio) (3.4.1)\n",
            "Requirement already satisfied: urllib3<3,>=1.21.1 in /usr/local/lib/python3.11/dist-packages (from requests->huggingface-hub>=0.28.1->gradio) (2.3.0)\n",
            "Requirement already satisfied: mdurl~=0.1 in /usr/local/lib/python3.11/dist-packages (from markdown-it-py>=2.2.0->rich>=10.11.0->typer<1.0,>=0.12->gradio) (0.1.2)\n",
            "Downloading gradio-5.23.3-py3-none-any.whl (46.5 MB)\n",
            "\u001b[2K   \u001b[90m━━━━━━━━━━━━━━━━━━━━━━━━━━━━━━━━━━━━━━━━\u001b[0m \u001b[32m46.5/46.5 MB\u001b[0m \u001b[31m16.2 MB/s\u001b[0m eta \u001b[36m0:00:00\u001b[0m\n",
            "\u001b[?25hDownloading gradio_client-1.8.0-py3-none-any.whl (322 kB)\n",
            "\u001b[2K   \u001b[90m━━━━━━━━━━━━━━━━━━━━━━━━━━━━━━━━━━━━━━━━\u001b[0m \u001b[32m322.2/322.2 kB\u001b[0m \u001b[31m20.4 MB/s\u001b[0m eta \u001b[36m0:00:00\u001b[0m\n",
            "\u001b[?25hDownloading aiofiles-23.2.1-py3-none-any.whl (15 kB)\n",
            "Downloading fastapi-0.115.12-py3-none-any.whl (95 kB)\n",
            "\u001b[2K   \u001b[90m━━━━━━━━━━━━━━━━━━━━━━━━━━━━━━━━━━━━━━━━\u001b[0m \u001b[32m95.2/95.2 kB\u001b[0m \u001b[31m7.1 MB/s\u001b[0m eta \u001b[36m0:00:00\u001b[0m\n",
            "\u001b[?25hDownloading groovy-0.1.2-py3-none-any.whl (14 kB)\n",
            "Downloading python_multipart-0.0.20-py3-none-any.whl (24 kB)\n",
            "Downloading ruff-0.11.2-py3-none-manylinux_2_17_x86_64.manylinux2014_x86_64.whl (11.3 MB)\n",
            "\u001b[2K   \u001b[90m━━━━━━━━━━━━━━━━━━━━━━━━━━━━━━━━━━━━━━━━\u001b[0m \u001b[32m11.3/11.3 MB\u001b[0m \u001b[31m65.1 MB/s\u001b[0m eta \u001b[36m0:00:00\u001b[0m\n",
            "\u001b[?25hDownloading safehttpx-0.1.6-py3-none-any.whl (8.7 kB)\n",
            "Downloading semantic_version-2.10.0-py2.py3-none-any.whl (15 kB)\n",
            "Downloading starlette-0.46.1-py3-none-any.whl (71 kB)\n",
            "\u001b[2K   \u001b[90m━━━━━━━━━━━━━━━━━━━━━━━━━━━━━━━━━━━━━━━━\u001b[0m \u001b[32m72.0/72.0 kB\u001b[0m \u001b[31m4.9 MB/s\u001b[0m eta \u001b[36m0:00:00\u001b[0m\n",
            "\u001b[?25hDownloading tomlkit-0.13.2-py3-none-any.whl (37 kB)\n",
            "Downloading uvicorn-0.34.0-py3-none-any.whl (62 kB)\n",
            "\u001b[2K   \u001b[90m━━━━━━━━━━━━━━━━━━━━━━━━━━━━━━━━━━━━━━━━\u001b[0m \u001b[32m62.3/62.3 kB\u001b[0m \u001b[31m4.0 MB/s\u001b[0m eta \u001b[36m0:00:00\u001b[0m\n",
            "\u001b[?25hDownloading ffmpy-0.5.0-py3-none-any.whl (6.0 kB)\n",
            "Downloading pydub-0.25.1-py2.py3-none-any.whl (32 kB)\n",
            "Installing collected packages: pydub, uvicorn, tomlkit, semantic-version, ruff, python-multipart, groovy, ffmpy, aiofiles, starlette, safehttpx, gradio-client, fastapi, gradio\n",
            "Successfully installed aiofiles-23.2.1 fastapi-0.115.12 ffmpy-0.5.0 gradio-5.23.3 gradio-client-1.8.0 groovy-0.1.2 pydub-0.25.1 python-multipart-0.0.20 ruff-0.11.2 safehttpx-0.1.6 semantic-version-2.10.0 starlette-0.46.1 tomlkit-0.13.2 uvicorn-0.34.0\n"
          ]
        }
      ]
    },
    {
      "cell_type": "code",
      "source": [
        "import numpy as np\n",
        "import matplotlib.pyplot as plt\n",
        "import gradio as gr\n",
        "import cv2\n",
        "from sklearn.cluster import KMeans\n",
        "\n",
        "def segment_image(image, num_clusters):\n",
        "    # Convert image to RGB (Gradio provides images in BGR format)\n",
        "    image = cv2.cvtColor(image, cv2.COLOR_BGR2RGB)\n",
        "\n",
        "    # Reshape image to 2D array of pixels\n",
        "    pixels = image.reshape(-1, 3)\n",
        "\n",
        "    # Apply K-Means clustering\n",
        "    kmeans = KMeans(n_clusters=num_clusters, random_state=42, n_init=10)\n",
        "    labels = kmeans.fit_predict(pixels)\n",
        "    segmented_image = kmeans.cluster_centers_[labels].reshape(image.shape)\n",
        "\n",
        "    # Convert back to uint8 format\n",
        "    segmented_image = np.uint8(segmented_image)\n",
        "\n",
        "    return segmented_image\n",
        "\n",
        "# Gradio Interface\n",
        "demo = gr.Interface(\n",
        "    fn=segment_image,\n",
        "    inputs=[gr.Image(type=\"numpy\"), gr.Slider(2, 10, step=1, label=\"Number of Segments\")],\n",
        "    outputs=gr.Image(type=\"numpy\"),\n",
        "    title=\"Image Segmentation using K-Means\",\n",
        "    description=\"Upload an image and choose the number of segments to apply K-Means clustering.\"\n",
        ")\n",
        "\n",
        "demo.launch()\n"
      ],
      "metadata": {
        "id": "3LY-BkdQ-5Vn",
        "outputId": "2db96d24-6687-4cf1-ddca-d35f69001cb3",
        "colab": {
          "base_uri": "https://localhost:8080/",
          "height": 645
        }
      },
      "execution_count": null,
      "outputs": [
        {
          "output_type": "stream",
          "name": "stdout",
          "text": [
            "Running Gradio in a Colab notebook requires sharing enabled. Automatically setting `share=True` (you can turn this off by setting `share=False` in `launch()` explicitly).\n",
            "\n",
            "Colab notebook detected. To show errors in colab notebook, set debug=True in launch()\n",
            "* Running on public URL: https://9ba173e87ed5d30c37.gradio.live\n",
            "\n",
            "This share link expires in 72 hours. For free permanent hosting and GPU upgrades, run `gradio deploy` from the terminal in the working directory to deploy to Hugging Face Spaces (https://huggingface.co/spaces)\n"
          ]
        },
        {
          "output_type": "display_data",
          "data": {
            "text/plain": [
              "<IPython.core.display.HTML object>"
            ],
            "text/html": [
              "<div><iframe src=\"https://9ba173e87ed5d30c37.gradio.live\" width=\"100%\" height=\"500\" allow=\"autoplay; camera; microphone; clipboard-read; clipboard-write;\" frameborder=\"0\" allowfullscreen></iframe></div>"
            ]
          },
          "metadata": {}
        },
        {
          "output_type": "execute_result",
          "data": {
            "text/plain": []
          },
          "metadata": {},
          "execution_count": 5
        }
      ]
    },
    {
      "cell_type": "code",
      "source": [
        "import gradio as gr\n",
        "import tensorflow as tf\n",
        "import numpy as np\n",
        "from tensorflow.keras.models import Sequential\n",
        "from tensorflow.keras.layers import Dense, Flatten\n",
        "from tensorflow.keras.optimizers import Adam\n",
        "import cv2\n",
        "\n",
        "# Load and preprocess the MNIST dataset\n",
        "(x_train, y_train), (x_test, y_test) = tf.keras.datasets.mnist.load_data()\n",
        "x_train, x_test = x_train / 255.0, x_test / 255.0  # Normalize data\n",
        "\n",
        "# Build a simple neural network model\n",
        "model = Sequential([\n",
        "    Flatten(input_shape=(28, 28)),\n",
        "    Dense(128, activation='relu'),\n",
        "    Dense(10, activation='softmax')\n",
        "])\n",
        "\n",
        "model.compile(optimizer=Adam(), loss='sparse_categorical_crossentropy', metrics=['accuracy'])\n",
        "\n",
        "# Train the model (for simplicity, using a small number of epochs)\n",
        "model.fit(x_train, y_train, epochs=5, validation_data=(x_test, y_test))\n",
        "\n",
        "def predict_digit(image):\n",
        "    if image is None:\n",
        "        return \"Error: No image provided.\"\n",
        "\n",
        "    image = cv2.cvtColor(image, cv2.COLOR_RGB2GRAY) if len(image.shape) == 3 else image  # Convert to grayscale if needed\n",
        "    image = cv2.resize(image, (28, 28))  # Resize image to 28x28\n",
        "    image = image / 255.0  # Normalize\n",
        "    image = image.reshape(1, 28, 28)  # Reshape for model input\n",
        "\n",
        "    prediction = model.predict(image)\n",
        "    return {str(i): float(prediction[0][i]) for i in range(10)}\n",
        "\n",
        "# Create the Gradio interface\n",
        "iface = gr.Interface(\n",
        "    fn=predict_digit,\n",
        "    inputs=gr.Image(image_mode=\"L\", type=\"numpy\"),\n",
        "    outputs=gr.Label(),\n",
        "    title=\"Digit Recognizer\",\n",
        "    description=\"Draw a digit (0-9) and let the neural network recognize it.\"\n",
        ")\n",
        "\n",
        "# Launch the app\n",
        "iface.launch()\n"
      ],
      "metadata": {
        "colab": {
          "base_uri": "https://localhost:8080/",
          "height": 819
        },
        "id": "7djt1w37x0Lp",
        "outputId": "44972020-522a-471d-a8b9-5996fdff6c08"
      },
      "execution_count": null,
      "outputs": [
        {
          "output_type": "stream",
          "name": "stdout",
          "text": [
            "Epoch 1/5\n",
            "\u001b[1m1875/1875\u001b[0m \u001b[32m━━━━━━━━━━━━━━━━━━━━\u001b[0m\u001b[37m\u001b[0m \u001b[1m10s\u001b[0m 5ms/step - accuracy: 0.8715 - loss: 0.4432 - val_accuracy: 0.9505 - val_loss: 0.1618\n",
            "Epoch 2/5\n",
            "\u001b[1m1875/1875\u001b[0m \u001b[32m━━━━━━━━━━━━━━━━━━━━\u001b[0m\u001b[37m\u001b[0m \u001b[1m8s\u001b[0m 4ms/step - accuracy: 0.9639 - loss: 0.1239 - val_accuracy: 0.9680 - val_loss: 0.1065\n",
            "Epoch 3/5\n",
            "\u001b[1m1875/1875\u001b[0m \u001b[32m━━━━━━━━━━━━━━━━━━━━\u001b[0m\u001b[37m\u001b[0m \u001b[1m10s\u001b[0m 4ms/step - accuracy: 0.9756 - loss: 0.0819 - val_accuracy: 0.9732 - val_loss: 0.0865\n",
            "Epoch 4/5\n",
            "\u001b[1m1875/1875\u001b[0m \u001b[32m━━━━━━━━━━━━━━━━━━━━\u001b[0m\u001b[37m\u001b[0m \u001b[1m11s\u001b[0m 4ms/step - accuracy: 0.9825 - loss: 0.0582 - val_accuracy: 0.9747 - val_loss: 0.0819\n",
            "Epoch 5/5\n",
            "\u001b[1m1875/1875\u001b[0m \u001b[32m━━━━━━━━━━━━━━━━━━━━\u001b[0m\u001b[37m\u001b[0m \u001b[1m6s\u001b[0m 3ms/step - accuracy: 0.9868 - loss: 0.0442 - val_accuracy: 0.9768 - val_loss: 0.0775\n",
            "Running Gradio in a Colab notebook requires sharing enabled. Automatically setting `share=True` (you can turn this off by setting `share=False` in `launch()` explicitly).\n",
            "\n",
            "Colab notebook detected. To show errors in colab notebook, set debug=True in launch()\n",
            "* Running on public URL: https://963f42dba385811651.gradio.live\n",
            "\n",
            "This share link expires in 72 hours. For free permanent hosting and GPU upgrades, run `gradio deploy` from the terminal in the working directory to deploy to Hugging Face Spaces (https://huggingface.co/spaces)\n"
          ]
        },
        {
          "output_type": "display_data",
          "data": {
            "text/plain": [
              "<IPython.core.display.HTML object>"
            ],
            "text/html": [
              "<div><iframe src=\"https://963f42dba385811651.gradio.live\" width=\"100%\" height=\"500\" allow=\"autoplay; camera; microphone; clipboard-read; clipboard-write;\" frameborder=\"0\" allowfullscreen></iframe></div>"
            ]
          },
          "metadata": {}
        },
        {
          "output_type": "execute_result",
          "data": {
            "text/plain": []
          },
          "metadata": {},
          "execution_count": 23
        }
      ]
    },
    {
      "cell_type": "code",
      "source": [
        "import gradio as gr\n",
        "import tensorflow as tf\n",
        "import numpy as np\n",
        "from tensorflow.keras.models import Sequential\n",
        "from tensorflow.keras.layers import Dense, Flatten, Conv2D, MaxPooling2D\n",
        "from tensorflow.keras.optimizers import Adam\n",
        "import cv2\n",
        "\n",
        "# Load and preprocess the MNIST dataset\n",
        "(x_train, y_train), (x_test, y_test) = tf.keras.datasets.mnist.load_data()\n",
        "x_train, x_test = x_train / 255.0, x_test / 255.0  # Normalize data\n",
        "x_train = x_train.reshape(-1, 28, 28, 1)\n",
        "x_test = x_test.reshape(-1, 28, 28, 1)\n",
        "\n",
        "# Build a CNN model\n",
        "model = Sequential([\n",
        "    Conv2D(32, (3,3), activation='relu', input_shape=(28, 28, 1)),\n",
        "    MaxPooling2D(2, 2),\n",
        "    Conv2D(64, (3,3), activation='relu'),\n",
        "    MaxPooling2D(2, 2),\n",
        "    Flatten(),\n",
        "    Dense(128, activation='relu'),\n",
        "    Dense(10, activation='softmax')\n",
        "])\n",
        "\n",
        "model.compile(optimizer=Adam(), loss='sparse_categorical_crossentropy', metrics=['accuracy'])\n",
        "\n",
        "# Train the model (increase epochs for better accuracy)\n",
        "model.fit(x_train, y_train, epochs=10, validation_data=(x_test, y_test), verbose=1)\n",
        "\n",
        "def predict_digit(image):\n",
        "    if image is None:\n",
        "        return \"Error: No image provided.\"\n",
        "\n",
        "    image = cv2.cvtColor(image, cv2.COLOR_RGB2GRAY) if len(image.shape) == 3 else image  # Convert to grayscale if needed\n",
        "    image = cv2.resize(image, (28, 28))  # Resize image to 28x28\n",
        "    image = 1 - (image / 255.0)  # Normalize and invert colors\n",
        "    image = image.reshape(1, 28, 28, 1)  # Reshape for model input\n",
        "\n",
        "    prediction = model.predict(image)\n",
        "    return {str(i): float(prediction[0][i]) for i in range(10)}\n",
        "\n",
        "# Create the Gradio interface\n",
        "iface = gr.Interface(\n",
        "    fn=predict_digit,\n",
        "    inputs=gr.Image(image_mode=\"L\", type=\"numpy\"),\n",
        "    outputs=gr.Label(),\n",
        "    title=\"Digit Recognizer\",\n",
        "    description=\"Draw a digit (0-9) and let the neural network recognize it.\"\n",
        ")\n",
        "\n",
        "# Launch the app\n",
        "iface.launch()"
      ],
      "metadata": {
        "colab": {
          "base_uri": "https://localhost:8080/",
          "height": 1000
        },
        "id": "VssjIskS6LVM",
        "outputId": "66f66f04-7125-48b8-cdce-dbe1a5b4314b"
      },
      "execution_count": null,
      "outputs": [
        {
          "output_type": "stream",
          "name": "stderr",
          "text": [
            "/usr/local/lib/python3.11/dist-packages/keras/src/layers/convolutional/base_conv.py:107: UserWarning: Do not pass an `input_shape`/`input_dim` argument to a layer. When using Sequential models, prefer using an `Input(shape)` object as the first layer in the model instead.\n",
            "  super().__init__(activity_regularizer=activity_regularizer, **kwargs)\n"
          ]
        },
        {
          "output_type": "stream",
          "name": "stdout",
          "text": [
            "Epoch 1/10\n",
            "\u001b[1m1875/1875\u001b[0m \u001b[32m━━━━━━━━━━━━━━━━━━━━\u001b[0m\u001b[37m\u001b[0m \u001b[1m62s\u001b[0m 32ms/step - accuracy: 0.9089 - loss: 0.2934 - val_accuracy: 0.9850 - val_loss: 0.0454\n",
            "Epoch 2/10\n",
            "\u001b[1m1875/1875\u001b[0m \u001b[32m━━━━━━━━━━━━━━━━━━━━\u001b[0m\u001b[37m\u001b[0m \u001b[1m79s\u001b[0m 30ms/step - accuracy: 0.9871 - loss: 0.0426 - val_accuracy: 0.9878 - val_loss: 0.0355\n",
            "Epoch 3/10\n",
            "\u001b[1m1875/1875\u001b[0m \u001b[32m━━━━━━━━━━━━━━━━━━━━\u001b[0m\u001b[37m\u001b[0m \u001b[1m81s\u001b[0m 30ms/step - accuracy: 0.9904 - loss: 0.0308 - val_accuracy: 0.9895 - val_loss: 0.0304\n",
            "Epoch 4/10\n",
            "\u001b[1m1875/1875\u001b[0m \u001b[32m━━━━━━━━━━━━━━━━━━━━\u001b[0m\u001b[37m\u001b[0m \u001b[1m83s\u001b[0m 31ms/step - accuracy: 0.9927 - loss: 0.0208 - val_accuracy: 0.9891 - val_loss: 0.0325\n",
            "Epoch 5/10\n",
            "\u001b[1m1875/1875\u001b[0m \u001b[32m━━━━━━━━━━━━━━━━━━━━\u001b[0m\u001b[37m\u001b[0m \u001b[1m81s\u001b[0m 30ms/step - accuracy: 0.9955 - loss: 0.0143 - val_accuracy: 0.9916 - val_loss: 0.0259\n",
            "Epoch 6/10\n",
            "\u001b[1m1875/1875\u001b[0m \u001b[32m━━━━━━━━━━━━━━━━━━━━\u001b[0m\u001b[37m\u001b[0m \u001b[1m83s\u001b[0m 31ms/step - accuracy: 0.9968 - loss: 0.0098 - val_accuracy: 0.9910 - val_loss: 0.0324\n",
            "Epoch 7/10\n",
            "\u001b[1m1875/1875\u001b[0m \u001b[32m━━━━━━━━━━━━━━━━━━━━\u001b[0m\u001b[37m\u001b[0m \u001b[1m81s\u001b[0m 30ms/step - accuracy: 0.9971 - loss: 0.0089 - val_accuracy: 0.9916 - val_loss: 0.0280\n",
            "Epoch 8/10\n",
            "\u001b[1m1875/1875\u001b[0m \u001b[32m━━━━━━━━━━━━━━━━━━━━\u001b[0m\u001b[37m\u001b[0m \u001b[1m56s\u001b[0m 30ms/step - accuracy: 0.9978 - loss: 0.0066 - val_accuracy: 0.9897 - val_loss: 0.0365\n",
            "Epoch 9/10\n",
            "\u001b[1m1875/1875\u001b[0m \u001b[32m━━━━━━━━━━━━━━━━━━━━\u001b[0m\u001b[37m\u001b[0m \u001b[1m83s\u001b[0m 30ms/step - accuracy: 0.9975 - loss: 0.0070 - val_accuracy: 0.9896 - val_loss: 0.0451\n",
            "Epoch 10/10\n",
            "\u001b[1m1875/1875\u001b[0m \u001b[32m━━━━━━━━━━━━━━━━━━━━\u001b[0m\u001b[37m\u001b[0m \u001b[1m86s\u001b[0m 33ms/step - accuracy: 0.9981 - loss: 0.0058 - val_accuracy: 0.9906 - val_loss: 0.0409\n",
            "Running Gradio in a Colab notebook requires sharing enabled. Automatically setting `share=True` (you can turn this off by setting `share=False` in `launch()` explicitly).\n",
            "\n",
            "Colab notebook detected. To show errors in colab notebook, set debug=True in launch()\n",
            "* Running on public URL: https://eed1a61a0ad4a7984d.gradio.live\n",
            "\n",
            "This share link expires in 72 hours. For free permanent hosting and GPU upgrades, run `gradio deploy` from the terminal in the working directory to deploy to Hugging Face Spaces (https://huggingface.co/spaces)\n"
          ]
        },
        {
          "output_type": "display_data",
          "data": {
            "text/plain": [
              "<IPython.core.display.HTML object>"
            ],
            "text/html": [
              "<div><iframe src=\"https://eed1a61a0ad4a7984d.gradio.live\" width=\"100%\" height=\"500\" allow=\"autoplay; camera; microphone; clipboard-read; clipboard-write;\" frameborder=\"0\" allowfullscreen></iframe></div>"
            ]
          },
          "metadata": {}
        },
        {
          "output_type": "execute_result",
          "data": {
            "text/plain": []
          },
          "metadata": {},
          "execution_count": 24
        }
      ]
    },
    {
      "cell_type": "markdown",
      "source": [
        "# New Section"
      ],
      "metadata": {
        "id": "4qW3YHXE67zA"
      }
    },
    {
      "cell_type": "markdown",
      "source": [
        "# New Section"
      ],
      "metadata": {
        "id": "OZHIPYKe5EJY"
      }
    }
  ]
}