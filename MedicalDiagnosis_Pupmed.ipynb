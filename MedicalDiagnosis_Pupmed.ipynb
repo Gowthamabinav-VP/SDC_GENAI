{
  "nbformat": 4,
  "nbformat_minor": 0,
  "metadata": {
    "colab": {
      "provenance": [],
      "authorship_tag": "ABX9TyNfWS5PlE1R7JSWQLmH9smz",
      "include_colab_link": true
    },
    "kernelspec": {
      "name": "python3",
      "display_name": "Python 3"
    },
    "language_info": {
      "name": "python"
    }
  },
  "cells": [
    {
      "cell_type": "markdown",
      "metadata": {
        "id": "view-in-github",
        "colab_type": "text"
      },
      "source": [
        "<a href=\"https://colab.research.google.com/github/Gowthamabinav-VP/SDC_GENAI/blob/main/MedicalDiagnosis_Pupmed.ipynb\" target=\"_parent\"><img src=\"https://colab.research.google.com/assets/colab-badge.svg\" alt=\"Open In Colab\"/></a>"
      ]
    },
    {
      "cell_type": "code",
      "execution_count": 3,
      "metadata": {
        "colab": {
          "base_uri": "https://localhost:8080/"
        },
        "id": "z0mkC5kJ_cdR",
        "outputId": "66564e7b-4f8f-4ec3-9360-5b6e100b6fb4"
      },
      "outputs": [
        {
          "output_type": "stream",
          "name": "stdout",
          "text": [
            "🤖 Medical Diagnosis Chatbot (PubMed Powered)\n",
            "Type your symptoms (e.g., 'fever and sore throat') or type 'exit' to quit.\n",
            "\n",
            "👤 You: fever and joint pain\n",
            "\n",
            "🔍 Searching for articles related to: fever and joint pain\n",
            "\n",
            "📚 Top Medical Insights:\n",
            "\n",
            "🔹 Article 1:\n",
            "Knee Pain in Adults and Adolescents: The Initial Evaluation.\n",
            "📝 Summary: Knee pain affects approximately 25% of adults, and its prevalence has increased almost 65% over the past 20 years, accounting for nearly 4 million primary care visits annually. Initial evaluation should emphasize excluding urgent causes while considering the need for referral. Key aspects of the patient history include age; location, onset, duration, and quality of pain; associated mechanical or systemic symptoms; history of swelling; description of precipitating trauma; and pertinent medical or surgical history. Patients requiring urgent referral generally have severe pain, swelling, and instability or inability to bear weight in association with acute trauma or have signs of joint infection such as fever, swelling, erythema, and limited range of motion. A systematic approach to examination of the knee includes inspection, palpation, evaluation of range of motion and strength, neurovascular testing, and special (provocative) tests. Radiographic imaging should be reserved for chronic knee pain (more than six weeks) or acute traumatic pain in patients who meet specific evidence-based criteria. Musculoskeletal ultrasonography allows for detailed evaluation of effusions, cysts (e.g., Baker cyst), and superficial structures. Magnetic resonance imaging is rarely used for patients with emergent cases and should generally be an option only when surgery is considered or when a patient experiences persistent pain despite adequate conservative treatment. When the initial history and physical examination suggest but do not confirm a specific diagnosis, laboratory tests can be used as a confirmatory or diagnostic tool.\n",
            "------------------------------------------------------------\n",
            "🔹 Article 2:\n",
            "Septic Arthritis: Diagnosis and Treatment.\n",
            "📝 Summary: Septic arthritis must be considered and promptly diagnosed in any patient presenting with acute atraumatic joint pain, swelling, and fever. Risk factors for septic arthritis include age older than 80 years, diabetes mellitus, rheumatoid arthritis, recent joint surgery, hip or knee prosthesis, skin infection, and immunosuppressive medication use. A delay in diagnosis and treatment can result in permanent morbidity and mortality. Physical examination findings and serum markers, including erythrocyte sedimentation rate and C-reactive protein, are helpful in the diagnosis but are nonspecific. Synovial fluid studies are required to confirm the diagnosis. History and Gram stain aid in determining initial antibiotic selection. Staphylococcus aureus is the most common pathogen isolated in septic arthritis; however, other bacteria, viruses, fungi, and mycobacterium can cause the disease. After synovial fluid has been obtained, empiric antibiotic therapy should be initiated if there is clinical concern for septic arthritis. Oral antibiotics can be given in most cases because they are not inferior to intravenous therapy. Total duration of therapy ranges from two to six weeks; however, certain infections require longer courses. Consideration for microorganisms such as Neisseria gonorrhoeae, Borrelia burgdorferi, and fungal infections should be based on history findings and laboratory results.\n",
            "------------------------------------------------------------\n",
            "🔹 Article 3:\n",
            "Acute Immunological Profile and Prognostic Biomarkers of Persistent Joint Pain in Chikungunya Fever: A Systematic Review.\n",
            "📝 Summary: Chikungunya virus infection (CHIKV) increases the risk of persistent arthralgia; however, there is no consistent evidence regarding prognostic biomarkers of progression to chronic arthropathy. This systematic review provides an overview of currently available literature about the potential role of the acute immunologic response in predicting long-term joint pain in patients with a diagnosis of CHIKV. We searched for observational studies using the terms \"chikungunya,\" \"cytokines,\" \"biomarkers,\" and \"joint pain\" in PubMed/MEDLINE, LILACS, Cochrane Library Plus, and SCOPUS databases, restricting to articles published in English and up to April 2024. PROSPERO registration number: CRD42021279400. Thirty-eight studies were selected for qualitative synthesis with a maximum duration from diagnosis to clinical evaluation of 60 months. The sample sizes ranged from 8 to 346 participants (age range: 0-90 years). We identified an immunologic profile during the acute phase of CHIKV that includes increased levels of proinflammatory cytokines (IFN-α, IFN-γ, IL-2R, IL-6, IL-7, and IL-8), anti-inflammatory cytokines (IL-1Ra and IL-4), chemokines (MCP-1, MIG, and IP-10) and growth factors (VEGF and G-CSF). Only one out of two studies reported differences in cytokine levels during the acute phase, predicting persistent joint pain at 20 months of follow-up. Also, persistence of anti-CHIKV IgG seemed to be a potential prognostic marker. The evidence suggests the existence of an inflammatory response in the acute phase of CHIKV that persists during its chronic phase; however, there is no unequivocal candidate set of biomarkers of progression toward long-term articular sequelae.\n",
            "------------------------------------------------------------\n",
            "\n",
            "👤 You: fever\n",
            "⚠️ Try to describe your symptoms in more detail (e.g., 'fever and rash') for better results.\n",
            "\n",
            "👤 You: fever and cold\n",
            "\n",
            "🔍 Searching for articles related to: fever and cold\n",
            "\n",
            "📚 Top Medical Insights:\n",
            "\n",
            "🔹 Article 1:\n",
            "Thermoregulatory disorders and illness related to heat and cold stress.\n",
            "📝 Summary: Thermoregulation is a vital function of the autonomic nervous system in response to cold and heat stress. Thermoregulatory physiology sustains health by keeping body core temperature within a degree or two of 37°C, which enables normal cellular function. Heat production and dissipation are dependent on a coordinated set of autonomic responses. The clinical detection of thermoregulatory impairment provides important diagnostic and localizing information in the evaluation of disorders that impair thermoregulatory pathways, including autonomic neuropathies and ganglionopathies. Failure of neural thermoregulatory mechanisms or exposure to extreme or sustained temperatures that overwhelm the body's thermoregulatory capacity can also result in potentially life-threatening departures from normothermia. Hypothermia, defined as a core temperature of <35.0°C, may present with shivering, respiratory depression, cardiac dysrhythmias, impaired mental function, mydriasis, hypotension, and muscle dysfunction, which can progress to cardiac arrest or coma. Management includes warming measures, hydration, and cardiovascular support. Deaths from hypothermia are twice as frequent as deaths from hyperthermia. Hyperthermia, defined as a core temperature of >40.5°C, may present with sweating, flushing, tachycardia, fatigue, lightheadedness, headache, and paresthesia, progressing to weakness, muscle cramps, oliguria, nausea, agitation, hypotension, syncope, confusion, delirium, seizures, and coma. Mental status changes and core temperature distinguish potentially fatal heat stroke from heat exhaustion. Management requires the immediate reduction of core temperature. Ice water immersion has been shown to be superior to alternative cooling measures. Avoidance of thermal risk and early recognition of cold or heat stress are the cornerstones of preventive therapy.\n",
            "------------------------------------------------------------\n",
            "🔹 Article 2:\n",
            "Maternal Common Cold or Fever During Pregnancy and the Risk of Orofacial Clefts in the Offspring: A Systematic Review and Meta-analysis.\n",
            "📝 Summary: The common cold and/or an associated fever during pregnancy have/has been suspected to harm the developing fetus. We sought possible correlations between a maternal common cold or fever during pregnancy and the risk of orofacial clefts in the offspring. We systematically searched PubMed and Embase using appropriate keywords, and we checked the reference lists of retrieved articles. We used random-effects models to estimate overall relative risks. Incidence of orofacial clefts. We included 13 case-control studies. Modest but statistically significant associations were found between a maternal common cold and cleft lip with or without a cleft palate (CL/CP) (odds ratio [OR] 2.17; 95% confidence interval [CI] 1.66-2.83) and a cleft palate only (CPO) (OR 3.08; 95% CI 1.5-6.34). Furthermore, maternal fever was also associated with an increased risk of CL/CP (OR 1.91, 95% CI 1.3-2.8) and CPO (OR 1.48, 95% CI 0.83-2.63) in the offspring. Further analyses of maternal influenza (alone) yielded similar results. Although evidence of heterogeneity should be carefully evaluated, our findings suggest that maternal common cold or fever during pregnancy may be associated with a greater risk of CL/CP or CPO in the offspring. Future cohort studies using valid assessments of maternal common cold exposure during pregnancy that consider the severity of fever are needed to clarify the contribution of maternal common cold or fever status to the risk of orofacial clefts in children.\n",
            "------------------------------------------------------------\n",
            "🔹 Article 3:\n",
            "Treatment of the Common Cold.\n",
            "📝 Summary: Acute upper respiratory tract infections are extremely common in adults and children, but only a few safe and effective treatments are available. Patients typically present with nasal congestion, rhinorrhea, sore throat, cough, general malaise, and/or low-grade fever. Informing patients about the self-limited nature of the common cold can help manage expectations, limit antibiotic use, and avoid over-the-counter purchases that may not help. Treatments with proven effectiveness for cold symptoms in adults include over-the-counter analgesics, zinc, nasal decongestants with or without antihistamines, and ipratropium for cough. Lower-quality evidence suggests that Lactobacillus casei may be beneficial in older adults. The only established safe and effective treatments for children are acetylcysteine, honey (for children one year and older), nasal saline irrigation, intranasal ipratropium, and topical application of ointment containing camphor, menthol, and eucalyptus oils. Over-the-counter cold medications should not be used in children younger than four years. Counseling patients about the importance of good hand hygiene is the best way to prevent transmission of cold viruses.\n",
            "------------------------------------------------------------\n",
            "\n",
            "👤 You: exit\n",
            "👋 Goodbye! Stay healthy.\n"
          ]
        }
      ],
      "source": [
        "from Bio import Entrez\n",
        "Entrez.email = \"your-email@example.com\"  # Replace with your real email\n",
        "\n",
        "def search_pubmed(symptom, max_results=3):\n",
        "    handle = Entrez.esearch(db=\"pubmed\", term=symptom, retmax=max_results, sort=\"relevance\")\n",
        "    record = Entrez.read(handle)\n",
        "    handle.close()\n",
        "    return record[\"IdList\"]\n",
        "\n",
        "def fetch_abstracts_xml(id_list):\n",
        "    handle = Entrez.efetch(db=\"pubmed\", id=\",\".join(id_list), rettype=\"abstract\", retmode=\"xml\")\n",
        "    records = Entrez.read(handle)\n",
        "    handle.close()\n",
        "\n",
        "    summaries = []\n",
        "    for article in records['PubmedArticle']:\n",
        "        article_data = article['MedlineCitation']['Article']\n",
        "        title = article_data.get('ArticleTitle', 'No Title Available')\n",
        "        abstract_parts = article_data.get('Abstract', {}).get('AbstractText', [])\n",
        "        abstract_text = \" \".join(str(part) for part in abstract_parts) if abstract_parts else \"Summary not available.\"\n",
        "        summaries.append((title, abstract_text))\n",
        "    return summaries\n",
        "\n",
        "def chatbot():\n",
        "    print(\"🤖 Medical Diagnosis Chatbot (PubMed Powered)\")\n",
        "    print(\"Type your symptoms (e.g., 'fever and sore throat') or type 'exit' to quit.\\n\")\n",
        "\n",
        "    while True:\n",
        "        user_input = input(\"👤 You: \").strip().lower()\n",
        "        if user_input == 'exit':\n",
        "            print(\"👋 Goodbye! Stay healthy.\")\n",
        "            break\n",
        "        elif len(user_input.split()) < 2:\n",
        "            print(\"⚠️ Try to describe your symptoms in more detail (e.g., 'fever and rash') for better results.\\n\")\n",
        "            continue\n",
        "\n",
        "        print(f\"\\n🔍 Searching for articles related to: {user_input}\\n\")\n",
        "        ids = search_pubmed(user_input)\n",
        "        if not ids:\n",
        "            print(\"❌ No articles found. Try rephrasing your symptoms.\\n\")\n",
        "            continue\n",
        "\n",
        "        summaries = fetch_abstracts_xml(ids)\n",
        "\n",
        "        print(\"📚 Top Medical Insights:\\n\")\n",
        "        for i, (title, summary) in enumerate(summaries, 1):\n",
        "            print(f\"🔹 Article {i}:\")\n",
        "            print(f\"{title}\\n📝 Summary: {summary}\\n{'-'*60}\")\n",
        "        print()\n",
        "\n",
        "# Run the chatbot\n",
        "chatbot()\n"
      ]
    }
  ]
}