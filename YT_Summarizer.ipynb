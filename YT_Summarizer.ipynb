{
  "nbformat": 4,
  "nbformat_minor": 0,
  "metadata": {
    "colab": {
      "provenance": [],
      "authorship_tag": "ABX9TyNWKWqFLsY2yL8DUDqKuBbd",
      "include_colab_link": true
    },
    "kernelspec": {
      "name": "python3",
      "display_name": "Python 3"
    },
    "language_info": {
      "name": "python"
    }
  },
  "cells": [
    {
      "cell_type": "markdown",
      "metadata": {
        "id": "view-in-github",
        "colab_type": "text"
      },
      "source": [
        "<a href=\"https://colab.research.google.com/github/Gowthamabinav-VP/SDC_GENAI/blob/main/YT_Summarizer.ipynb\" target=\"_parent\"><img src=\"https://colab.research.google.com/assets/colab-badge.svg\" alt=\"Open In Colab\"/></a>"
      ]
    },
    {
      "cell_type": "code",
      "execution_count": 2,
      "metadata": {
        "colab": {
          "base_uri": "https://localhost:8080/"
        },
        "id": "5I41rHIqNmwP",
        "outputId": "a9187bce-9e39-41df-ae43-5605a2bc1d3e"
      },
      "outputs": [
        {
          "output_type": "stream",
          "name": "stdout",
          "text": [
            "Requirement already satisfied: youtube-transcript-api in /usr/local/lib/python3.11/dist-packages (1.0.3)\n",
            "Requirement already satisfied: transformers in /usr/local/lib/python3.11/dist-packages (4.51.1)\n",
            "Requirement already satisfied: torch in /usr/local/lib/python3.11/dist-packages (2.6.0+cu124)\n",
            "Requirement already satisfied: defusedxml<0.8.0,>=0.7.1 in /usr/local/lib/python3.11/dist-packages (from youtube-transcript-api) (0.7.1)\n",
            "Requirement already satisfied: requests in /usr/local/lib/python3.11/dist-packages (from youtube-transcript-api) (2.32.3)\n",
            "Requirement already satisfied: filelock in /usr/local/lib/python3.11/dist-packages (from transformers) (3.18.0)\n",
            "Requirement already satisfied: huggingface-hub<1.0,>=0.30.0 in /usr/local/lib/python3.11/dist-packages (from transformers) (0.30.2)\n",
            "Requirement already satisfied: numpy>=1.17 in /usr/local/lib/python3.11/dist-packages (from transformers) (2.0.2)\n",
            "Requirement already satisfied: packaging>=20.0 in /usr/local/lib/python3.11/dist-packages (from transformers) (24.2)\n",
            "Requirement already satisfied: pyyaml>=5.1 in /usr/local/lib/python3.11/dist-packages (from transformers) (6.0.2)\n",
            "Requirement already satisfied: regex!=2019.12.17 in /usr/local/lib/python3.11/dist-packages (from transformers) (2024.11.6)\n",
            "Requirement already satisfied: tokenizers<0.22,>=0.21 in /usr/local/lib/python3.11/dist-packages (from transformers) (0.21.1)\n",
            "Requirement already satisfied: safetensors>=0.4.3 in /usr/local/lib/python3.11/dist-packages (from transformers) (0.5.3)\n",
            "Requirement already satisfied: tqdm>=4.27 in /usr/local/lib/python3.11/dist-packages (from transformers) (4.67.1)\n",
            "Requirement already satisfied: typing-extensions>=4.10.0 in /usr/local/lib/python3.11/dist-packages (from torch) (4.13.1)\n",
            "Requirement already satisfied: networkx in /usr/local/lib/python3.11/dist-packages (from torch) (3.4.2)\n",
            "Requirement already satisfied: jinja2 in /usr/local/lib/python3.11/dist-packages (from torch) (3.1.6)\n",
            "Requirement already satisfied: fsspec in /usr/local/lib/python3.11/dist-packages (from torch) (2025.3.2)\n",
            "Requirement already satisfied: nvidia-cuda-nvrtc-cu12==12.4.127 in /usr/local/lib/python3.11/dist-packages (from torch) (12.4.127)\n",
            "Requirement already satisfied: nvidia-cuda-runtime-cu12==12.4.127 in /usr/local/lib/python3.11/dist-packages (from torch) (12.4.127)\n",
            "Requirement already satisfied: nvidia-cuda-cupti-cu12==12.4.127 in /usr/local/lib/python3.11/dist-packages (from torch) (12.4.127)\n",
            "Requirement already satisfied: nvidia-cudnn-cu12==9.1.0.70 in /usr/local/lib/python3.11/dist-packages (from torch) (9.1.0.70)\n",
            "Requirement already satisfied: nvidia-cublas-cu12==12.4.5.8 in /usr/local/lib/python3.11/dist-packages (from torch) (12.4.5.8)\n",
            "Requirement already satisfied: nvidia-cufft-cu12==11.2.1.3 in /usr/local/lib/python3.11/dist-packages (from torch) (11.2.1.3)\n",
            "Requirement already satisfied: nvidia-curand-cu12==10.3.5.147 in /usr/local/lib/python3.11/dist-packages (from torch) (10.3.5.147)\n",
            "Requirement already satisfied: nvidia-cusolver-cu12==11.6.1.9 in /usr/local/lib/python3.11/dist-packages (from torch) (11.6.1.9)\n",
            "Requirement already satisfied: nvidia-cusparse-cu12==12.3.1.170 in /usr/local/lib/python3.11/dist-packages (from torch) (12.3.1.170)\n",
            "Requirement already satisfied: nvidia-cusparselt-cu12==0.6.2 in /usr/local/lib/python3.11/dist-packages (from torch) (0.6.2)\n",
            "Requirement already satisfied: nvidia-nccl-cu12==2.21.5 in /usr/local/lib/python3.11/dist-packages (from torch) (2.21.5)\n",
            "Requirement already satisfied: nvidia-nvtx-cu12==12.4.127 in /usr/local/lib/python3.11/dist-packages (from torch) (12.4.127)\n",
            "Requirement already satisfied: nvidia-nvjitlink-cu12==12.4.127 in /usr/local/lib/python3.11/dist-packages (from torch) (12.4.127)\n",
            "Requirement already satisfied: triton==3.2.0 in /usr/local/lib/python3.11/dist-packages (from torch) (3.2.0)\n",
            "Requirement already satisfied: sympy==1.13.1 in /usr/local/lib/python3.11/dist-packages (from torch) (1.13.1)\n",
            "Requirement already satisfied: mpmath<1.4,>=1.1.0 in /usr/local/lib/python3.11/dist-packages (from sympy==1.13.1->torch) (1.3.0)\n",
            "Requirement already satisfied: MarkupSafe>=2.0 in /usr/local/lib/python3.11/dist-packages (from jinja2->torch) (3.0.2)\n",
            "Requirement already satisfied: charset-normalizer<4,>=2 in /usr/local/lib/python3.11/dist-packages (from requests->youtube-transcript-api) (3.4.1)\n",
            "Requirement already satisfied: idna<4,>=2.5 in /usr/local/lib/python3.11/dist-packages (from requests->youtube-transcript-api) (3.10)\n",
            "Requirement already satisfied: urllib3<3,>=1.21.1 in /usr/local/lib/python3.11/dist-packages (from requests->youtube-transcript-api) (2.3.0)\n",
            "Requirement already satisfied: certifi>=2017.4.17 in /usr/local/lib/python3.11/dist-packages (from requests->youtube-transcript-api) (2025.1.31)\n"
          ]
        },
        {
          "output_type": "stream",
          "name": "stderr",
          "text": [
            "Device set to use cpu\n"
          ]
        },
        {
          "output_type": "stream",
          "name": "stdout",
          "text": [
            "Transcript fetched successfully!\n"
          ]
        },
        {
          "output_type": "stream",
          "name": "stderr",
          "text": [
            "Your max_length is set to 150, but your input_length is only 50. Since this is a summarization task, where outputs shorter than the input are typically wanted, you might consider decreasing max_length manually, e.g. summarizer('...', max_length=25)\n"
          ]
        },
        {
          "output_type": "stream",
          "name": "stdout",
          "text": [
            "Summary of the video:\n",
            "Artificial intelligence is nothing but making computers-based machines think and act like humans. John McCarthy a computer scientist coined the term artificial intelligence back in 1956 but it took time to evolve as it demanded heavy computing power. There are three types of AI artificial narrow intelligence also called weak AI is the stage where machines think like people. Artificial narrow intelligence is the capacity to comprehend or pick up any intellectual skill that a human can. IBM's Watson supercomputer and gpt3 fall under this category. Machine learning is the process of automating and enhancing how computers learn from their experiences. Artificial intelligence is advancing in every crucial field like healthcare education robotics banking e-commerce and the list goes on like in healthcare AI is used to identify diseases helping healthcare service providers and their patients make better treatment and lifestyle decisions coming to the education sector AI is helping teachers automate grading organizing and facilitating parent conversations in robotics ai-powered robo. AI is about playing a computer game creating a device using your own intelligence to program an intelligent machine. The AI Market is expected to reach 190 billion dollars by 2025. Leave your answers in the comments section and we will provide the answer next week. Stay tuned for more from Simply learn [Music]   and stay tuned to the Simply learn Channel for more tech news. you did a thumbs up would be really appreciated here's your reminder to subscribe to our Channel and click on the Bell icon for more on the latest Technologies and Trends. \n"
          ]
        }
      ],
      "source": [
        "# Install necessary libraries\n",
        "!pip install youtube-transcript-api transformers torch\n",
        "\n",
        "# Import required libraries\n",
        "from youtube_transcript_api import YouTubeTranscriptApi\n",
        "from transformers import pipeline\n",
        "import re\n",
        "\n",
        "# Function to fetch transcript from a YouTube video\n",
        "def get_youtube_transcript(video_url):\n",
        "    # Extract video ID from both standard and shortened URLs\n",
        "    match = re.search(r\"(?:v=|/)([0-9A-Za-z_-]{11})\", video_url)\n",
        "    if match:\n",
        "        video_id = match.group(1)\n",
        "        transcript = YouTubeTranscriptApi.get_transcript(video_id)\n",
        "\n",
        "        transcript_text = \"\"\n",
        "        for entry in transcript:\n",
        "            transcript_text += entry[\"text\"] + \" \"\n",
        "\n",
        "        return transcript_text\n",
        "    else:\n",
        "        raise ValueError(\"Invalid YouTube URL\")\n",
        "\n",
        "# Initialize Hugging Face summarization pipeline (no API key required)\n",
        "summarizer = pipeline(\"summarization\", model=\"facebook/bart-large-cnn\")\n",
        "\n",
        "# Example YouTube video URL\n",
        "video_url = \"https://youtu.be/uMzUB89uSxU\"  # Replace with the actual YouTube URL\n",
        "\n",
        "# Fetch the transcript\n",
        "try:\n",
        "    transcript = get_youtube_transcript(video_url)\n",
        "    print(\"Transcript fetched successfully!\")\n",
        "\n",
        "    # Function to summarize the transcript\n",
        "    def summarize_transcript(transcript):\n",
        "        # Summarize in chunks if the transcript is long\n",
        "        summary = \"\"\n",
        "        chunk_size = 1000  # Set chunk size for summarization\n",
        "        for i in range(0, len(transcript), chunk_size):\n",
        "            chunk = transcript[i:i+chunk_size]\n",
        "            summarized_chunk = summarizer(chunk, max_length=150, min_length=50, do_sample=False)\n",
        "            summary += summarized_chunk[0]['summary_text'] + \" \"\n",
        "        return summary\n",
        "\n",
        "    # Summarize the YouTube video transcript\n",
        "    summary = summarize_transcript(transcript)\n",
        "    print(\"Summary of the video:\")\n",
        "    print(summary)\n",
        "\n",
        "except ValueError as e:\n",
        "    print(str(e))\n"
      ]
    }
  ]
}